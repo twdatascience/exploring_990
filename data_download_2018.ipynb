{
 "cells": [
  {
   "cell_type": "code",
   "execution_count": 1,
   "metadata": {},
   "outputs": [],
   "source": [
    "import numpy as np\n",
    "import pandas as pd\n",
    "import requests\n",
    "import re\n",
    "import json\n",
    "from os import walk\n",
    "from multiprocessing.pool import ThreadPool"
   ]
  },
  {
   "cell_type": "code",
   "execution_count": 2,
   "metadata": {},
   "outputs": [],
   "source": [
    "URL = \"https://s3.amazonaws.com/irs-form-990/index_2018.json\"\n",
    "\n",
    "response = requests.get(URL)\n",
    "with open(\"index_2018.json\", 'wb') as f:\n",
    "    f.write(response.content)"
   ]
  },
  {
   "cell_type": "code",
   "execution_count": 3,
   "metadata": {},
   "outputs": [],
   "source": [
    "with open(\"index_2018.json\") as f:\n",
    "    data = json.load(f)\n",
    "    data = data[list(data.keys())[0]]"
   ]
  },
  {
   "cell_type": "code",
   "execution_count": 4,
   "metadata": {},
   "outputs": [
    {
     "data": {
      "text/html": [
       "<div>\n",
       "<style scoped>\n",
       "    .dataframe tbody tr th:only-of-type {\n",
       "        vertical-align: middle;\n",
       "    }\n",
       "\n",
       "    .dataframe tbody tr th {\n",
       "        vertical-align: top;\n",
       "    }\n",
       "\n",
       "    .dataframe thead th {\n",
       "        text-align: right;\n",
       "    }\n",
       "</style>\n",
       "<table border=\"1\" class=\"dataframe\">\n",
       "  <thead>\n",
       "    <tr style=\"text-align: right;\">\n",
       "      <th></th>\n",
       "      <th>EIN</th>\n",
       "      <th>TaxPeriod</th>\n",
       "      <th>DLN</th>\n",
       "      <th>FormType</th>\n",
       "      <th>URL</th>\n",
       "      <th>OrganizationName</th>\n",
       "      <th>SubmittedOn</th>\n",
       "      <th>ObjectId</th>\n",
       "      <th>LastUpdated</th>\n",
       "    </tr>\n",
       "  </thead>\n",
       "  <tbody>\n",
       "    <tr>\n",
       "      <td>457505</td>\n",
       "      <td>391455942</td>\n",
       "      <td>201712</td>\n",
       "      <td>93493326005008</td>\n",
       "      <td>990</td>\n",
       "      <td>https://s3.amazonaws.com/irs-form-990/20180326...</td>\n",
       "      <td>ROAD RUNNERS CLUB OF AMERICA 1174 PACE SETTERS...</td>\n",
       "      <td>2018-12-19</td>\n",
       "      <td>201803269349300500</td>\n",
       "      <td>2019-02-21T16:25:33</td>\n",
       "    </tr>\n",
       "    <tr>\n",
       "      <td>457506</td>\n",
       "      <td>112808943</td>\n",
       "      <td>201712</td>\n",
       "      <td>93492312011058</td>\n",
       "      <td>990EZ</td>\n",
       "      <td>https://s3.amazonaws.com/irs-form-990/20180312...</td>\n",
       "      <td>UNITED HOMES FUND INC CO FLUSHING HOUSE</td>\n",
       "      <td>2018-12-03</td>\n",
       "      <td>201803129349201105</td>\n",
       "      <td>2019-02-21T16:25:33</td>\n",
       "    </tr>\n",
       "    <tr>\n",
       "      <td>457507</td>\n",
       "      <td>262980099</td>\n",
       "      <td>201712</td>\n",
       "      <td>93492311010758</td>\n",
       "      <td>990EZ</td>\n",
       "      <td>https://s3.amazonaws.com/irs-form-990/20180311...</td>\n",
       "      <td>HOUGHTON VOLUNTEER AMBULANCE SERVICE INC</td>\n",
       "      <td>2018-12-03</td>\n",
       "      <td>201803119349201075</td>\n",
       "      <td>2019-02-21T16:25:33</td>\n",
       "    </tr>\n",
       "    <tr>\n",
       "      <td>457508</td>\n",
       "      <td>450392710</td>\n",
       "      <td>201806</td>\n",
       "      <td>93493311012808</td>\n",
       "      <td>990</td>\n",
       "      <td>https://s3.amazonaws.com/irs-form-990/20180311...</td>\n",
       "      <td>VALLEY MEMORIAL FOUNDATION</td>\n",
       "      <td>2018-11-30</td>\n",
       "      <td>201803119349301280</td>\n",
       "      <td>2019-02-21T16:25:33</td>\n",
       "    </tr>\n",
       "    <tr>\n",
       "      <td>457509</td>\n",
       "      <td>526038675</td>\n",
       "      <td>201712</td>\n",
       "      <td>93493311025608</td>\n",
       "      <td>990</td>\n",
       "      <td>https://s3.amazonaws.com/irs-form-990/20180311...</td>\n",
       "      <td>PLUMBERS AND STEAMFITTERS PROTECTIVE ASSOCIATI...</td>\n",
       "      <td>2018-12-03</td>\n",
       "      <td>201803119349302560</td>\n",
       "      <td>2019-02-21T16:25:33</td>\n",
       "    </tr>\n",
       "  </tbody>\n",
       "</table>\n",
       "</div>"
      ],
      "text/plain": [
       "              EIN TaxPeriod             DLN FormType  \\\n",
       "457505  391455942    201712  93493326005008      990   \n",
       "457506  112808943    201712  93492312011058    990EZ   \n",
       "457507  262980099    201712  93492311010758    990EZ   \n",
       "457508  450392710    201806  93493311012808      990   \n",
       "457509  526038675    201712  93493311025608      990   \n",
       "\n",
       "                                                      URL  \\\n",
       "457505  https://s3.amazonaws.com/irs-form-990/20180326...   \n",
       "457506  https://s3.amazonaws.com/irs-form-990/20180312...   \n",
       "457507  https://s3.amazonaws.com/irs-form-990/20180311...   \n",
       "457508  https://s3.amazonaws.com/irs-form-990/20180311...   \n",
       "457509  https://s3.amazonaws.com/irs-form-990/20180311...   \n",
       "\n",
       "                                         OrganizationName SubmittedOn  \\\n",
       "457505  ROAD RUNNERS CLUB OF AMERICA 1174 PACE SETTERS...  2018-12-19   \n",
       "457506            UNITED HOMES FUND INC CO FLUSHING HOUSE  2018-12-03   \n",
       "457507           HOUGHTON VOLUNTEER AMBULANCE SERVICE INC  2018-12-03   \n",
       "457508                         VALLEY MEMORIAL FOUNDATION  2018-11-30   \n",
       "457509  PLUMBERS AND STEAMFITTERS PROTECTIVE ASSOCIATI...  2018-12-03   \n",
       "\n",
       "                  ObjectId          LastUpdated  \n",
       "457505  201803269349300500  2019-02-21T16:25:33  \n",
       "457506  201803129349201105  2019-02-21T16:25:33  \n",
       "457507  201803119349201075  2019-02-21T16:25:33  \n",
       "457508  201803119349301280  2019-02-21T16:25:33  \n",
       "457509  201803119349302560  2019-02-21T16:25:33  "
      ]
     },
     "execution_count": 4,
     "metadata": {},
     "output_type": "execute_result"
    }
   ],
   "source": [
    "df = pd.DataFrame.from_dict(data)\n",
    "df.tail(5)"
   ]
  },
  {
   "cell_type": "code",
   "execution_count": 5,
   "metadata": {},
   "outputs": [
    {
     "data": {
      "text/plain": [
       "(457510, 9)"
      ]
     },
     "execution_count": 5,
     "metadata": {},
     "output_type": "execute_result"
    }
   ],
   "source": [
    "df.shape"
   ]
  },
  {
   "cell_type": "code",
   "execution_count": 6,
   "metadata": {},
   "outputs": [],
   "source": [
    "def download_url(url):\n",
    "    file_name_start = url.rfind('/') + 1\n",
    "    file_name = url[file_name_start:]\n",
    "    output_dir = \"/home/meso/git_repo/exploring_990/data_2018/\"\n",
    "    file_name = output_dir + file_name\n",
    "    \n",
    "    r = requests.get(url, stream=True)\n",
    "    if r.status_code == requests.codes.ok:\n",
    "        with open(file_name, 'wb') as f:\n",
    "            f.write(r.content)\n",
    "    return url\n",
    "\n",
    "urls = []\n",
    "for i in range(df.shape[0]): \n",
    "    urls.append(data[i]['URL'])\n",
    "    \n",
    "results = ThreadPool(100).imap_unordered(download_url, urls)"
   ]
  },
  {
   "cell_type": "code",
   "execution_count": 7,
   "metadata": {},
   "outputs": [],
   "source": [
    "f = []\n",
    "for (dirpath, dirnames, filenames) in walk('/home/meso/git_repo/exploring_990/data_2018/'):\n",
    "    f.extend(filenames)\n",
    "    break"
   ]
  },
  {
   "cell_type": "code",
   "execution_count": 8,
   "metadata": {},
   "outputs": [
    {
     "data": {
      "text/plain": [
       "457510"
      ]
     },
     "execution_count": 8,
     "metadata": {},
     "output_type": "execute_result"
    }
   ],
   "source": [
    "u = list(df['URL'])\n",
    "len(u)"
   ]
  },
  {
   "cell_type": "code",
   "execution_count": 9,
   "metadata": {},
   "outputs": [],
   "source": [
    "file_names_list = []\n",
    "\n",
    "for i in range(len(u)):\n",
    "    file_loc = u[i].rfind(\"/\") + 1\n",
    "    file_name = u[i][file_loc:]\n",
    "    file_names_list.append(file_name)"
   ]
  },
  {
   "cell_type": "code",
   "execution_count": 10,
   "metadata": {},
   "outputs": [
    {
     "name": "stdout",
     "output_type": "stream",
     "text": [
      "457510 : 456984\n"
     ]
    }
   ],
   "source": [
    "print(len(file_names_list), str(\":\"), len(f))"
   ]
  },
  {
   "cell_type": "code",
   "execution_count": 11,
   "metadata": {},
   "outputs": [
    {
     "data": {
      "text/plain": [
       "526"
      ]
     },
     "execution_count": 11,
     "metadata": {},
     "output_type": "execute_result"
    }
   ],
   "source": [
    "diff = list(set(file_names_list) - set(f))\n",
    "len(diff)"
   ]
  },
  {
   "cell_type": "code",
   "execution_count": 12,
   "metadata": {},
   "outputs": [],
   "source": [
    "file_loc = u[i].rfind(\"/\") + 1\n",
    "url_pre = u[0][:file_loc]"
   ]
  },
  {
   "cell_type": "code",
   "execution_count": 13,
   "metadata": {},
   "outputs": [],
   "source": [
    "urls = []\n",
    "for i in range(len(diff)):\n",
    "    url = url_pre + diff[i]\n",
    "    urls.append(url)"
   ]
  },
  {
   "cell_type": "code",
   "execution_count": 14,
   "metadata": {},
   "outputs": [],
   "source": [
    "for url in urls:\n",
    "    download_url(url)"
   ]
  },
  {
   "cell_type": "code",
   "execution_count": 15,
   "metadata": {},
   "outputs": [],
   "source": [
    "f = []\n",
    "for (dirpath, dirnames, filenames) in walk('/home/meso/git_repo/exploring_990/data_2018/'):\n",
    "    f.extend(filenames)\n",
    "    break"
   ]
  },
  {
   "cell_type": "code",
   "execution_count": 16,
   "metadata": {},
   "outputs": [
    {
     "data": {
      "text/plain": [
       "457510"
      ]
     },
     "execution_count": 16,
     "metadata": {},
     "output_type": "execute_result"
    }
   ],
   "source": [
    "len(f)"
   ]
  },
  {
   "cell_type": "code",
   "execution_count": 17,
   "metadata": {},
   "outputs": [
    {
     "data": {
      "text/plain": [
       "0"
      ]
     },
     "execution_count": 17,
     "metadata": {},
     "output_type": "execute_result"
    }
   ],
   "source": [
    "diff = list(set(file_names_list) - set(f))\n",
    "len(diff)"
   ]
  },
  {
   "cell_type": "code",
   "execution_count": 18,
   "metadata": {},
   "outputs": [],
   "source": [
    "def list_duplicates(seq):\n",
    "    seen = set()\n",
    "    seen_add = seen.add\n",
    "    return [idx for idx, item in enumerate(seq) if item in seen or seen_add(item)]"
   ]
  },
  {
   "cell_type": "code",
   "execution_count": 19,
   "metadata": {},
   "outputs": [
    {
     "name": "stdout",
     "output_type": "stream",
     "text": [
      "[]\n"
     ]
    }
   ],
   "source": [
    "print(list_duplicates(file_names_list))"
   ]
  },
  {
   "cell_type": "code",
   "execution_count": 20,
   "metadata": {},
   "outputs": [],
   "source": [
    "dup_df = df.iloc[list_duplicates(file_names_list)]"
   ]
  },
  {
   "cell_type": "code",
   "execution_count": 21,
   "metadata": {},
   "outputs": [],
   "source": [
    "dup_ein = pd.DataFrame(dup_df['EIN'])"
   ]
  },
  {
   "cell_type": "code",
   "execution_count": 22,
   "metadata": {},
   "outputs": [
    {
     "data": {
      "text/html": [
       "<div>\n",
       "<style scoped>\n",
       "    .dataframe tbody tr th:only-of-type {\n",
       "        vertical-align: middle;\n",
       "    }\n",
       "\n",
       "    .dataframe tbody tr th {\n",
       "        vertical-align: top;\n",
       "    }\n",
       "\n",
       "    .dataframe thead th {\n",
       "        text-align: right;\n",
       "    }\n",
       "</style>\n",
       "<table border=\"1\" class=\"dataframe\">\n",
       "  <thead>\n",
       "    <tr style=\"text-align: right;\">\n",
       "      <th></th>\n",
       "      <th>EIN</th>\n",
       "    </tr>\n",
       "  </thead>\n",
       "  <tbody>\n",
       "  </tbody>\n",
       "</table>\n",
       "</div>"
      ],
      "text/plain": [
       "Empty DataFrame\n",
       "Columns: [EIN]\n",
       "Index: []"
      ]
     },
     "execution_count": 22,
     "metadata": {},
     "output_type": "execute_result"
    }
   ],
   "source": [
    "dup_ein"
   ]
  },
  {
   "cell_type": "code",
   "execution_count": 23,
   "metadata": {},
   "outputs": [],
   "source": [
    "duplicates = pd.DataFrame([])\n",
    "\n",
    "for dup in range(dup_ein.shape[0]):\n",
    "    ein = dup_ein.iloc[dup]['EIN']\n",
    "    duplicates = duplicates.append(df[df['EIN'] == ein])"
   ]
  },
  {
   "cell_type": "code",
   "execution_count": 24,
   "metadata": {},
   "outputs": [
    {
     "data": {
      "text/html": [
       "<div>\n",
       "<style scoped>\n",
       "    .dataframe tbody tr th:only-of-type {\n",
       "        vertical-align: middle;\n",
       "    }\n",
       "\n",
       "    .dataframe tbody tr th {\n",
       "        vertical-align: top;\n",
       "    }\n",
       "\n",
       "    .dataframe thead th {\n",
       "        text-align: right;\n",
       "    }\n",
       "</style>\n",
       "<table border=\"1\" class=\"dataframe\">\n",
       "  <thead>\n",
       "    <tr style=\"text-align: right;\">\n",
       "      <th></th>\n",
       "    </tr>\n",
       "  </thead>\n",
       "  <tbody>\n",
       "  </tbody>\n",
       "</table>\n",
       "</div>"
      ],
      "text/plain": [
       "Empty DataFrame\n",
       "Columns: []\n",
       "Index: []"
      ]
     },
     "execution_count": 24,
     "metadata": {},
     "output_type": "execute_result"
    }
   ],
   "source": [
    "duplicates"
   ]
  },
  {
   "cell_type": "code",
   "execution_count": null,
   "metadata": {},
   "outputs": [],
   "source": []
  }
 ],
 "metadata": {
  "kernelspec": {
   "display_name": "Python 3",
   "language": "python",
   "name": "python3"
  },
  "language_info": {
   "codemirror_mode": {
    "name": "ipython",
    "version": 3
   },
   "file_extension": ".py",
   "mimetype": "text/x-python",
   "name": "python",
   "nbconvert_exporter": "python",
   "pygments_lexer": "ipython3",
   "version": "3.6.9"
  }
 },
 "nbformat": 4,
 "nbformat_minor": 2
}
