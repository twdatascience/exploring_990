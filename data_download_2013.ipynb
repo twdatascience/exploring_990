{
 "cells": [
  {
   "cell_type": "code",
   "execution_count": 1,
   "metadata": {},
   "outputs": [],
   "source": [
    "import numpy as np\n",
    "import pandas as pd\n",
    "import requests\n",
    "import re\n",
    "import json\n",
    "from os import walk"
   ]
  },
  {
   "cell_type": "code",
   "execution_count": 2,
   "metadata": {},
   "outputs": [],
   "source": [
    "URL = \"https://s3.amazonaws.com/irs-form-990/index_2013.json\"\n",
    "\n",
    "response = requests.get(URL)\n",
    "with open(\"index_2013.json\", 'wb') as f:\n",
    "    f.write(response.content)"
   ]
  },
  {
   "cell_type": "code",
   "execution_count": 3,
   "metadata": {},
   "outputs": [],
   "source": [
    "with open(\"index_2013.json\") as f:\n",
    "    data = json.load(f)\n",
    "    data = data[list(data.keys())[0]]"
   ]
  },
  {
   "cell_type": "code",
   "execution_count": 4,
   "metadata": {},
   "outputs": [
    {
     "data": {
      "text/html": [
       "<div>\n",
       "<style scoped>\n",
       "    .dataframe tbody tr th:only-of-type {\n",
       "        vertical-align: middle;\n",
       "    }\n",
       "\n",
       "    .dataframe tbody tr th {\n",
       "        vertical-align: top;\n",
       "    }\n",
       "\n",
       "    .dataframe thead th {\n",
       "        text-align: right;\n",
       "    }\n",
       "</style>\n",
       "<table border=\"1\" class=\"dataframe\">\n",
       "  <thead>\n",
       "    <tr style=\"text-align: right;\">\n",
       "      <th></th>\n",
       "      <th>EIN</th>\n",
       "      <th>TaxPeriod</th>\n",
       "      <th>DLN</th>\n",
       "      <th>FormType</th>\n",
       "      <th>URL</th>\n",
       "      <th>OrganizationName</th>\n",
       "      <th>SubmittedOn</th>\n",
       "      <th>ObjectId</th>\n",
       "      <th>LastUpdated</th>\n",
       "    </tr>\n",
       "  </thead>\n",
       "  <tbody>\n",
       "    <tr>\n",
       "      <td>0</td>\n",
       "      <td>205585992</td>\n",
       "      <td>201306</td>\n",
       "      <td>93492296006093</td>\n",
       "      <td>990EZ</td>\n",
       "      <td>https://s3.amazonaws.com/irs-form-990/20134296...</td>\n",
       "      <td>PTOK BUSH ELEMENTARY INC</td>\n",
       "      <td>2013-12-04</td>\n",
       "      <td>201342969349200609</td>\n",
       "      <td>2016-03-21T17:23:53</td>\n",
       "    </tr>\n",
       "    <tr>\n",
       "      <td>1</td>\n",
       "      <td>236437027</td>\n",
       "      <td>201306</td>\n",
       "      <td>93492296007043</td>\n",
       "      <td>990EZ</td>\n",
       "      <td>https://s3.amazonaws.com/irs-form-990/20134296...</td>\n",
       "      <td>SOCIETY OF THE ARTS CO ALLENTOWN ART MUSEUM</td>\n",
       "      <td>2013-12-04</td>\n",
       "      <td>201342969349200704</td>\n",
       "      <td>2016-03-21T17:23:53</td>\n",
       "    </tr>\n",
       "    <tr>\n",
       "      <td>2</td>\n",
       "      <td>452096099</td>\n",
       "      <td>201212</td>\n",
       "      <td>93492296007093</td>\n",
       "      <td>990EZ</td>\n",
       "      <td>https://s3.amazonaws.com/irs-form-990/20134296...</td>\n",
       "      <td>GREAT FOUNDATIONS INC</td>\n",
       "      <td>2013-12-04</td>\n",
       "      <td>201342969349200709</td>\n",
       "      <td>2016-03-21T17:23:53</td>\n",
       "    </tr>\n",
       "    <tr>\n",
       "      <td>3</td>\n",
       "      <td>731664822</td>\n",
       "      <td>201212</td>\n",
       "      <td>93492310012033</td>\n",
       "      <td>990EZ</td>\n",
       "      <td>https://s3.amazonaws.com/irs-form-990/20133310...</td>\n",
       "      <td>FRIENDS OF KIDS INC</td>\n",
       "      <td>2013-12-04</td>\n",
       "      <td>201333109349201203</td>\n",
       "      <td>2016-03-21T17:23:53</td>\n",
       "    </tr>\n",
       "    <tr>\n",
       "      <td>4</td>\n",
       "      <td>200128337</td>\n",
       "      <td>201306</td>\n",
       "      <td>93492310003043</td>\n",
       "      <td>990EZ</td>\n",
       "      <td>https://s3.amazonaws.com/irs-form-990/20134310...</td>\n",
       "      <td>LAKESHORE YOUTH ATHLETIC ASSOC</td>\n",
       "      <td>2013-12-04</td>\n",
       "      <td>201343109349200304</td>\n",
       "      <td>2016-03-21T17:23:53</td>\n",
       "    </tr>\n",
       "  </tbody>\n",
       "</table>\n",
       "</div>"
      ],
      "text/plain": [
       "         EIN TaxPeriod             DLN FormType  \\\n",
       "0  205585992    201306  93492296006093    990EZ   \n",
       "1  236437027    201306  93492296007043    990EZ   \n",
       "2  452096099    201212  93492296007093    990EZ   \n",
       "3  731664822    201212  93492310012033    990EZ   \n",
       "4  200128337    201306  93492310003043    990EZ   \n",
       "\n",
       "                                                 URL  \\\n",
       "0  https://s3.amazonaws.com/irs-form-990/20134296...   \n",
       "1  https://s3.amazonaws.com/irs-form-990/20134296...   \n",
       "2  https://s3.amazonaws.com/irs-form-990/20134296...   \n",
       "3  https://s3.amazonaws.com/irs-form-990/20133310...   \n",
       "4  https://s3.amazonaws.com/irs-form-990/20134310...   \n",
       "\n",
       "                              OrganizationName SubmittedOn  \\\n",
       "0                     PTOK BUSH ELEMENTARY INC  2013-12-04   \n",
       "1  SOCIETY OF THE ARTS CO ALLENTOWN ART MUSEUM  2013-12-04   \n",
       "2                        GREAT FOUNDATIONS INC  2013-12-04   \n",
       "3                          FRIENDS OF KIDS INC  2013-12-04   \n",
       "4               LAKESHORE YOUTH ATHLETIC ASSOC  2013-12-04   \n",
       "\n",
       "             ObjectId          LastUpdated  \n",
       "0  201342969349200609  2016-03-21T17:23:53  \n",
       "1  201342969349200704  2016-03-21T17:23:53  \n",
       "2  201342969349200709  2016-03-21T17:23:53  \n",
       "3  201333109349201203  2016-03-21T17:23:53  \n",
       "4  201343109349200304  2016-03-21T17:23:53  "
      ]
     },
     "execution_count": 4,
     "metadata": {},
     "output_type": "execute_result"
    }
   ],
   "source": [
    "df = pd.DataFrame.from_dict(data)\n",
    "df.head(5)"
   ]
  },
  {
   "cell_type": "code",
   "execution_count": 5,
   "metadata": {},
   "outputs": [
    {
     "data": {
      "text/plain": [
       "(261449, 9)"
      ]
     },
     "execution_count": 5,
     "metadata": {},
     "output_type": "execute_result"
    }
   ],
   "source": [
    "df.shape"
   ]
  },
  {
   "cell_type": "code",
   "execution_count": 6,
   "metadata": {},
   "outputs": [],
   "source": [
    "from multiprocessing.pool import ThreadPool"
   ]
  },
  {
   "cell_type": "code",
   "execution_count": 7,
   "metadata": {},
   "outputs": [],
   "source": [
    "def download_url(url):\n",
    "    file_name_start = url.rfind('/') + 1\n",
    "    file_name = url[file_name_start:]\n",
    "    output_dir = \"/home/meso/git_repo/exploring_990/data_2013/\"\n",
    "    file_name = output_dir + file_name\n",
    "    \n",
    "    r = requests.get(url, stream=True)\n",
    "    if r.status_code == requests.codes.ok:\n",
    "        with open(file_name, 'wb') as f:\n",
    "            f.write(r.content)\n",
    "    return url\n",
    "\n",
    "urls = []\n",
    "for i in range(df.shape[0]): \n",
    "    urls.append(data[i]['URL'])\n",
    "    \n",
    "results = ThreadPool(100).imap_unordered(download_url, urls)"
   ]
  },
  {
   "cell_type": "code",
   "execution_count": 8,
   "metadata": {},
   "outputs": [],
   "source": [
    "f = []\n",
    "for (dirpath, dirnames, filenames) in walk('/home/meso/git_repo/exploring_990/data_2013/'):\n",
    "    f.extend(filenames)\n",
    "    break"
   ]
  },
  {
   "cell_type": "code",
   "execution_count": 9,
   "metadata": {},
   "outputs": [],
   "source": [
    "u = list(df['URL'])"
   ]
  },
  {
   "cell_type": "code",
   "execution_count": 10,
   "metadata": {},
   "outputs": [
    {
     "data": {
      "text/plain": [
       "261449"
      ]
     },
     "execution_count": 10,
     "metadata": {},
     "output_type": "execute_result"
    }
   ],
   "source": [
    "len(u)"
   ]
  },
  {
   "cell_type": "code",
   "execution_count": 11,
   "metadata": {},
   "outputs": [],
   "source": [
    "file_names_list = []"
   ]
  },
  {
   "cell_type": "code",
   "execution_count": 12,
   "metadata": {},
   "outputs": [
    {
     "data": {
      "text/plain": [
       "0"
      ]
     },
     "execution_count": 12,
     "metadata": {},
     "output_type": "execute_result"
    }
   ],
   "source": [
    "len(file_names_list)"
   ]
  },
  {
   "cell_type": "code",
   "execution_count": 13,
   "metadata": {},
   "outputs": [],
   "source": [
    "for i in range(len(u)):\n",
    "    file_loc = u[i].rfind(\"/\") + 1\n",
    "    file_name = u[i][file_loc:]\n",
    "    file_names_list.append(file_name)"
   ]
  },
  {
   "cell_type": "code",
   "execution_count": 14,
   "metadata": {},
   "outputs": [
    {
     "data": {
      "text/plain": [
       "261449"
      ]
     },
     "execution_count": 14,
     "metadata": {},
     "output_type": "execute_result"
    }
   ],
   "source": [
    "len(file_names_list)"
   ]
  },
  {
   "cell_type": "code",
   "execution_count": 15,
   "metadata": {},
   "outputs": [
    {
     "data": {
      "text/plain": [
       "261274"
      ]
     },
     "execution_count": 15,
     "metadata": {},
     "output_type": "execute_result"
    }
   ],
   "source": [
    "len(f)"
   ]
  },
  {
   "cell_type": "code",
   "execution_count": 16,
   "metadata": {},
   "outputs": [],
   "source": [
    "diff = list(set(file_names_list) - set(f))"
   ]
  },
  {
   "cell_type": "code",
   "execution_count": 17,
   "metadata": {},
   "outputs": [
    {
     "data": {
      "text/plain": [
       "160"
      ]
     },
     "execution_count": 17,
     "metadata": {},
     "output_type": "execute_result"
    }
   ],
   "source": [
    "len(diff)"
   ]
  },
  {
   "cell_type": "code",
   "execution_count": 18,
   "metadata": {},
   "outputs": [
    {
     "data": {
      "text/plain": [
       "'201301149349300210_public.xml'"
      ]
     },
     "execution_count": 18,
     "metadata": {},
     "output_type": "execute_result"
    }
   ],
   "source": [
    "diff[0]"
   ]
  },
  {
   "cell_type": "code",
   "execution_count": 19,
   "metadata": {},
   "outputs": [],
   "source": [
    "file_loc = u[i].rfind(\"/\") + 1\n",
    "url_pre = u[0][:file_loc]"
   ]
  },
  {
   "cell_type": "code",
   "execution_count": 20,
   "metadata": {},
   "outputs": [
    {
     "data": {
      "text/plain": [
       "'https://s3.amazonaws.com/irs-form-990/'"
      ]
     },
     "execution_count": 20,
     "metadata": {},
     "output_type": "execute_result"
    }
   ],
   "source": [
    "url_pre"
   ]
  },
  {
   "cell_type": "code",
   "execution_count": 21,
   "metadata": {},
   "outputs": [],
   "source": [
    "urls = []\n",
    "for i in range(len(diff)):\n",
    "    url = url_pre + diff[i]\n",
    "    urls.append(url)"
   ]
  },
  {
   "cell_type": "code",
   "execution_count": 22,
   "metadata": {},
   "outputs": [
    {
     "data": {
      "text/plain": [
       "'https://s3.amazonaws.com/irs-form-990/201301149349300210_public.xml'"
      ]
     },
     "execution_count": 22,
     "metadata": {},
     "output_type": "execute_result"
    }
   ],
   "source": [
    "urls[0]"
   ]
  },
  {
   "cell_type": "code",
   "execution_count": 23,
   "metadata": {},
   "outputs": [],
   "source": [
    "for url in urls:\n",
    "    download_url(url)"
   ]
  },
  {
   "cell_type": "code",
   "execution_count": 24,
   "metadata": {},
   "outputs": [],
   "source": [
    "f = []\n",
    "for (dirpath, dirnames, filenames) in walk('/home/meso/git_repo/exploring_990/data_2013/'):\n",
    "    f.extend(filenames)\n",
    "    break"
   ]
  },
  {
   "cell_type": "code",
   "execution_count": 25,
   "metadata": {},
   "outputs": [
    {
     "data": {
      "text/plain": [
       "261434"
      ]
     },
     "execution_count": 25,
     "metadata": {},
     "output_type": "execute_result"
    }
   ],
   "source": [
    "len(f)"
   ]
  },
  {
   "cell_type": "code",
   "execution_count": 26,
   "metadata": {},
   "outputs": [
    {
     "data": {
      "text/plain": [
       "261449"
      ]
     },
     "execution_count": 26,
     "metadata": {},
     "output_type": "execute_result"
    }
   ],
   "source": [
    "len(file_names_list)\n"
   ]
  },
  {
   "cell_type": "code",
   "execution_count": 27,
   "metadata": {},
   "outputs": [],
   "source": [
    "diff = list(set(file_names_list) - set(f))"
   ]
  },
  {
   "cell_type": "code",
   "execution_count": 28,
   "metadata": {},
   "outputs": [
    {
     "data": {
      "text/plain": [
       "0"
      ]
     },
     "execution_count": 28,
     "metadata": {},
     "output_type": "execute_result"
    }
   ],
   "source": [
    "len(diff)"
   ]
  },
  {
   "cell_type": "code",
   "execution_count": 29,
   "metadata": {},
   "outputs": [],
   "source": [
    "diff = set(file_names_list).symmetric_difference(set(f))"
   ]
  },
  {
   "cell_type": "code",
   "execution_count": 30,
   "metadata": {},
   "outputs": [
    {
     "data": {
      "text/plain": [
       "0"
      ]
     },
     "execution_count": 30,
     "metadata": {},
     "output_type": "execute_result"
    }
   ],
   "source": [
    "len(diff)"
   ]
  },
  {
   "cell_type": "code",
   "execution_count": 31,
   "metadata": {},
   "outputs": [
    {
     "data": {
      "text/plain": [
       "set()"
      ]
     },
     "execution_count": 31,
     "metadata": {},
     "output_type": "execute_result"
    }
   ],
   "source": [
    "diff"
   ]
  },
  {
   "cell_type": "code",
   "execution_count": 32,
   "metadata": {},
   "outputs": [],
   "source": [
    "dff = list(set(f) - set(file_names_list))"
   ]
  },
  {
   "cell_type": "code",
   "execution_count": 33,
   "metadata": {},
   "outputs": [
    {
     "data": {
      "text/plain": [
       "0"
      ]
     },
     "execution_count": 33,
     "metadata": {},
     "output_type": "execute_result"
    }
   ],
   "source": [
    "len(dff)"
   ]
  },
  {
   "cell_type": "code",
   "execution_count": 34,
   "metadata": {},
   "outputs": [
    {
     "data": {
      "text/plain": [
       "261449"
      ]
     },
     "execution_count": 34,
     "metadata": {},
     "output_type": "execute_result"
    }
   ],
   "source": [
    "len(file_names_list)"
   ]
  },
  {
   "cell_type": "code",
   "execution_count": 35,
   "metadata": {},
   "outputs": [
    {
     "data": {
      "text/plain": [
       "261434"
      ]
     },
     "execution_count": 35,
     "metadata": {},
     "output_type": "execute_result"
    }
   ],
   "source": [
    "len(f)"
   ]
  },
  {
   "cell_type": "code",
   "execution_count": 36,
   "metadata": {},
   "outputs": [
    {
     "data": {
      "text/plain": [
       "261434"
      ]
     },
     "execution_count": 36,
     "metadata": {},
     "output_type": "execute_result"
    }
   ],
   "source": [
    "len(list(set(file_names_list)))"
   ]
  },
  {
   "cell_type": "code",
   "execution_count": 37,
   "metadata": {},
   "outputs": [],
   "source": [
    "def list_duplicates(seq):\n",
    "    seen = set()\n",
    "    seen_add = seen.add\n",
    "    return [idx for idx, item in enumerate(seq) if item in seen or seen_add(item)]"
   ]
  },
  {
   "cell_type": "code",
   "execution_count": 38,
   "metadata": {},
   "outputs": [
    {
     "name": "stdout",
     "output_type": "stream",
     "text": [
      "[71821, 71822, 71823, 71824, 71826, 71827, 71828, 71829, 71830, 71831, 183840, 217142, 217143, 217144, 257543]\n"
     ]
    }
   ],
   "source": [
    "print(list_duplicates(file_names_list))"
   ]
  },
  {
   "cell_type": "code",
   "execution_count": 39,
   "metadata": {},
   "outputs": [
    {
     "data": {
      "text/plain": [
       "EIN                                                         141910988\n",
       "TaxPeriod                                                      201212\n",
       "DLN                                                    93492122002013\n",
       "FormType                                                        990EZ\n",
       "URL                 https://s3.amazonaws.com/irs-form-990/20131122...\n",
       "OrganizationName                              HIV DENTAL ALLIANCE INC\n",
       "SubmittedOn                                                2013-07-25\n",
       "ObjectId                                           201311229349200201\n",
       "LastUpdated                                       2016-03-21T17:23:53\n",
       "Name: 71821, dtype: object"
      ]
     },
     "execution_count": 39,
     "metadata": {},
     "output_type": "execute_result"
    }
   ],
   "source": [
    "df.iloc[71821,]"
   ]
  },
  {
   "cell_type": "code",
   "execution_count": 41,
   "metadata": {},
   "outputs": [],
   "source": [
    "dup_df = df.iloc[list_duplicates(file_names_list)]"
   ]
  },
  {
   "cell_type": "code",
   "execution_count": 48,
   "metadata": {},
   "outputs": [],
   "source": [
    "dup_ein = pd.DataFrame(dup_df['EIN'])"
   ]
  },
  {
   "cell_type": "code",
   "execution_count": 49,
   "metadata": {},
   "outputs": [
    {
     "data": {
      "text/html": [
       "<div>\n",
       "<style scoped>\n",
       "    .dataframe tbody tr th:only-of-type {\n",
       "        vertical-align: middle;\n",
       "    }\n",
       "\n",
       "    .dataframe tbody tr th {\n",
       "        vertical-align: top;\n",
       "    }\n",
       "\n",
       "    .dataframe thead th {\n",
       "        text-align: right;\n",
       "    }\n",
       "</style>\n",
       "<table border=\"1\" class=\"dataframe\">\n",
       "  <thead>\n",
       "    <tr style=\"text-align: right;\">\n",
       "      <th></th>\n",
       "      <th>EIN</th>\n",
       "    </tr>\n",
       "  </thead>\n",
       "  <tbody>\n",
       "    <tr>\n",
       "      <td>71821</td>\n",
       "      <td>141910988</td>\n",
       "    </tr>\n",
       "    <tr>\n",
       "      <td>71822</td>\n",
       "      <td>311451834</td>\n",
       "    </tr>\n",
       "    <tr>\n",
       "      <td>71823</td>\n",
       "      <td>237448364</td>\n",
       "    </tr>\n",
       "    <tr>\n",
       "      <td>71824</td>\n",
       "      <td>222802132</td>\n",
       "    </tr>\n",
       "    <tr>\n",
       "      <td>71826</td>\n",
       "      <td>341397769</td>\n",
       "    </tr>\n",
       "    <tr>\n",
       "      <td>71827</td>\n",
       "      <td>263115088</td>\n",
       "    </tr>\n",
       "    <tr>\n",
       "      <td>71828</td>\n",
       "      <td>202787636</td>\n",
       "    </tr>\n",
       "    <tr>\n",
       "      <td>71829</td>\n",
       "      <td>133944085</td>\n",
       "    </tr>\n",
       "    <tr>\n",
       "      <td>71830</td>\n",
       "      <td>251520627</td>\n",
       "    </tr>\n",
       "    <tr>\n",
       "      <td>71831</td>\n",
       "      <td>341280845</td>\n",
       "    </tr>\n",
       "    <tr>\n",
       "      <td>183840</td>\n",
       "      <td>161043575</td>\n",
       "    </tr>\n",
       "    <tr>\n",
       "      <td>217142</td>\n",
       "      <td>270004168</td>\n",
       "    </tr>\n",
       "    <tr>\n",
       "      <td>217143</td>\n",
       "      <td>742338363</td>\n",
       "    </tr>\n",
       "    <tr>\n",
       "      <td>217144</td>\n",
       "      <td>263611668</td>\n",
       "    </tr>\n",
       "    <tr>\n",
       "      <td>257543</td>\n",
       "      <td>226089466</td>\n",
       "    </tr>\n",
       "  </tbody>\n",
       "</table>\n",
       "</div>"
      ],
      "text/plain": [
       "              EIN\n",
       "71821   141910988\n",
       "71822   311451834\n",
       "71823   237448364\n",
       "71824   222802132\n",
       "71826   341397769\n",
       "71827   263115088\n",
       "71828   202787636\n",
       "71829   133944085\n",
       "71830   251520627\n",
       "71831   341280845\n",
       "183840  161043575\n",
       "217142  270004168\n",
       "217143  742338363\n",
       "217144  263611668\n",
       "257543  226089466"
      ]
     },
     "execution_count": 49,
     "metadata": {},
     "output_type": "execute_result"
    }
   ],
   "source": [
    "dup_ein"
   ]
  },
  {
   "cell_type": "code",
   "execution_count": 52,
   "metadata": {},
   "outputs": [
    {
     "data": {
      "text/plain": [
       "'141910988'"
      ]
     },
     "execution_count": 52,
     "metadata": {},
     "output_type": "execute_result"
    }
   ],
   "source": [
    "dup_ein.iloc[0]['EIN']"
   ]
  },
  {
   "cell_type": "code",
   "execution_count": 53,
   "metadata": {},
   "outputs": [
    {
     "data": {
      "text/plain": [
       "(15, 1)"
      ]
     },
     "execution_count": 53,
     "metadata": {},
     "output_type": "execute_result"
    }
   ],
   "source": [
    "dup_ein.shape"
   ]
  },
  {
   "cell_type": "code",
   "execution_count": 55,
   "metadata": {},
   "outputs": [],
   "source": [
    "ein = dup_ein.iloc[0]['EIN']\n",
    "test = df[df['EIN'] == ein]"
   ]
  },
  {
   "cell_type": "code",
   "execution_count": 56,
   "metadata": {},
   "outputs": [
    {
     "data": {
      "text/html": [
       "<div>\n",
       "<style scoped>\n",
       "    .dataframe tbody tr th:only-of-type {\n",
       "        vertical-align: middle;\n",
       "    }\n",
       "\n",
       "    .dataframe tbody tr th {\n",
       "        vertical-align: top;\n",
       "    }\n",
       "\n",
       "    .dataframe thead th {\n",
       "        text-align: right;\n",
       "    }\n",
       "</style>\n",
       "<table border=\"1\" class=\"dataframe\">\n",
       "  <thead>\n",
       "    <tr style=\"text-align: right;\">\n",
       "      <th></th>\n",
       "      <th>EIN</th>\n",
       "      <th>TaxPeriod</th>\n",
       "      <th>DLN</th>\n",
       "      <th>FormType</th>\n",
       "      <th>URL</th>\n",
       "      <th>OrganizationName</th>\n",
       "      <th>SubmittedOn</th>\n",
       "      <th>ObjectId</th>\n",
       "      <th>LastUpdated</th>\n",
       "    </tr>\n",
       "  </thead>\n",
       "  <tbody>\n",
       "    <tr>\n",
       "      <td>69719</td>\n",
       "      <td>141910988</td>\n",
       "      <td>201212</td>\n",
       "      <td>93492122002013</td>\n",
       "      <td>990EZ</td>\n",
       "      <td>https://s3.amazonaws.com/irs-form-990/20131122...</td>\n",
       "      <td>HIV DENTAL ALLIANCE INC</td>\n",
       "      <td>2013-07-24</td>\n",
       "      <td>201311229349200201</td>\n",
       "      <td>2016-03-21T17:23:53</td>\n",
       "    </tr>\n",
       "    <tr>\n",
       "      <td>71821</td>\n",
       "      <td>141910988</td>\n",
       "      <td>201212</td>\n",
       "      <td>93492122002013</td>\n",
       "      <td>990EZ</td>\n",
       "      <td>https://s3.amazonaws.com/irs-form-990/20131122...</td>\n",
       "      <td>HIV DENTAL ALLIANCE INC</td>\n",
       "      <td>2013-07-25</td>\n",
       "      <td>201311229349200201</td>\n",
       "      <td>2016-03-21T17:23:53</td>\n",
       "    </tr>\n",
       "  </tbody>\n",
       "</table>\n",
       "</div>"
      ],
      "text/plain": [
       "             EIN TaxPeriod             DLN FormType  \\\n",
       "69719  141910988    201212  93492122002013    990EZ   \n",
       "71821  141910988    201212  93492122002013    990EZ   \n",
       "\n",
       "                                                     URL  \\\n",
       "69719  https://s3.amazonaws.com/irs-form-990/20131122...   \n",
       "71821  https://s3.amazonaws.com/irs-form-990/20131122...   \n",
       "\n",
       "              OrganizationName SubmittedOn            ObjectId  \\\n",
       "69719  HIV DENTAL ALLIANCE INC  2013-07-24  201311229349200201   \n",
       "71821  HIV DENTAL ALLIANCE INC  2013-07-25  201311229349200201   \n",
       "\n",
       "               LastUpdated  \n",
       "69719  2016-03-21T17:23:53  \n",
       "71821  2016-03-21T17:23:53  "
      ]
     },
     "execution_count": 56,
     "metadata": {},
     "output_type": "execute_result"
    }
   ],
   "source": [
    "test"
   ]
  },
  {
   "cell_type": "code",
   "execution_count": 57,
   "metadata": {},
   "outputs": [],
   "source": [
    "duplicates = pd.DataFrame([])\n",
    "\n",
    "for dup in range(dup_ein.shape[0]):\n",
    "    ein = dup_ein.iloc[dup]['EIN']\n",
    "    duplicates = duplicates.append(df[df['EIN'] == ein])"
   ]
  },
  {
   "cell_type": "code",
   "execution_count": 59,
   "metadata": {},
   "outputs": [
    {
     "data": {
      "text/plain": [
       "(30, 9)"
      ]
     },
     "execution_count": 59,
     "metadata": {},
     "output_type": "execute_result"
    }
   ],
   "source": [
    "duplicates.shape"
   ]
  },
  {
   "cell_type": "code",
   "execution_count": 60,
   "metadata": {},
   "outputs": [
    {
     "data": {
      "text/html": [
       "<div>\n",
       "<style scoped>\n",
       "    .dataframe tbody tr th:only-of-type {\n",
       "        vertical-align: middle;\n",
       "    }\n",
       "\n",
       "    .dataframe tbody tr th {\n",
       "        vertical-align: top;\n",
       "    }\n",
       "\n",
       "    .dataframe thead th {\n",
       "        text-align: right;\n",
       "    }\n",
       "</style>\n",
       "<table border=\"1\" class=\"dataframe\">\n",
       "  <thead>\n",
       "    <tr style=\"text-align: right;\">\n",
       "      <th></th>\n",
       "      <th>EIN</th>\n",
       "      <th>TaxPeriod</th>\n",
       "      <th>DLN</th>\n",
       "      <th>FormType</th>\n",
       "      <th>URL</th>\n",
       "      <th>OrganizationName</th>\n",
       "      <th>SubmittedOn</th>\n",
       "      <th>ObjectId</th>\n",
       "      <th>LastUpdated</th>\n",
       "    </tr>\n",
       "  </thead>\n",
       "  <tbody>\n",
       "    <tr>\n",
       "      <td>69719</td>\n",
       "      <td>141910988</td>\n",
       "      <td>201212</td>\n",
       "      <td>93492122002013</td>\n",
       "      <td>990EZ</td>\n",
       "      <td>https://s3.amazonaws.com/irs-form-990/20131122...</td>\n",
       "      <td>HIV DENTAL ALLIANCE INC</td>\n",
       "      <td>2013-07-24</td>\n",
       "      <td>201311229349200201</td>\n",
       "      <td>2016-03-21T17:23:53</td>\n",
       "    </tr>\n",
       "    <tr>\n",
       "      <td>71821</td>\n",
       "      <td>141910988</td>\n",
       "      <td>201212</td>\n",
       "      <td>93492122002013</td>\n",
       "      <td>990EZ</td>\n",
       "      <td>https://s3.amazonaws.com/irs-form-990/20131122...</td>\n",
       "      <td>HIV DENTAL ALLIANCE INC</td>\n",
       "      <td>2013-07-25</td>\n",
       "      <td>201311229349200201</td>\n",
       "      <td>2016-03-21T17:23:53</td>\n",
       "    </tr>\n",
       "    <tr>\n",
       "      <td>69720</td>\n",
       "      <td>311451834</td>\n",
       "      <td>201212</td>\n",
       "      <td>93492122002063</td>\n",
       "      <td>990EZ</td>\n",
       "      <td>https://s3.amazonaws.com/irs-form-990/20131122...</td>\n",
       "      <td>I AM SOMEBODY</td>\n",
       "      <td>2013-07-24</td>\n",
       "      <td>201311229349200206</td>\n",
       "      <td>2016-03-21T17:23:53</td>\n",
       "    </tr>\n",
       "    <tr>\n",
       "      <td>71822</td>\n",
       "      <td>311451834</td>\n",
       "      <td>201212</td>\n",
       "      <td>93492122002063</td>\n",
       "      <td>990EZ</td>\n",
       "      <td>https://s3.amazonaws.com/irs-form-990/20131122...</td>\n",
       "      <td>I AM SOMEBODY</td>\n",
       "      <td>2013-07-25</td>\n",
       "      <td>201311229349200206</td>\n",
       "      <td>2016-03-21T17:23:53</td>\n",
       "    </tr>\n",
       "    <tr>\n",
       "      <td>69721</td>\n",
       "      <td>237448364</td>\n",
       "      <td>201212</td>\n",
       "      <td>93492122002113</td>\n",
       "      <td>990EZ</td>\n",
       "      <td>https://s3.amazonaws.com/irs-form-990/20131122...</td>\n",
       "      <td>PIER ONE THEATRE INC</td>\n",
       "      <td>2013-07-24</td>\n",
       "      <td>201311229349200211</td>\n",
       "      <td>2016-03-21T17:23:53</td>\n",
       "    </tr>\n",
       "    <tr>\n",
       "      <td>71823</td>\n",
       "      <td>237448364</td>\n",
       "      <td>201212</td>\n",
       "      <td>93492122002113</td>\n",
       "      <td>990EZ</td>\n",
       "      <td>https://s3.amazonaws.com/irs-form-990/20131122...</td>\n",
       "      <td>PIER ONE THEATRE INC</td>\n",
       "      <td>2013-07-25</td>\n",
       "      <td>201311229349200211</td>\n",
       "      <td>2016-03-21T17:23:53</td>\n",
       "    </tr>\n",
       "    <tr>\n",
       "      <td>69722</td>\n",
       "      <td>222802132</td>\n",
       "      <td>201303</td>\n",
       "      <td>93492122002163</td>\n",
       "      <td>990EZ</td>\n",
       "      <td>https://s3.amazonaws.com/irs-form-990/20131122...</td>\n",
       "      <td>MARPLE-NEWTON SOCCER ASSOCIATION INC</td>\n",
       "      <td>2013-07-24</td>\n",
       "      <td>201311229349200216</td>\n",
       "      <td>2016-03-21T17:23:53</td>\n",
       "    </tr>\n",
       "    <tr>\n",
       "      <td>71824</td>\n",
       "      <td>222802132</td>\n",
       "      <td>201303</td>\n",
       "      <td>93492122002163</td>\n",
       "      <td>990EZ</td>\n",
       "      <td>https://s3.amazonaws.com/irs-form-990/20131122...</td>\n",
       "      <td>MARPLE-NEWTON SOCCER ASSOCIATION INC</td>\n",
       "      <td>2013-07-25</td>\n",
       "      <td>201311229349200216</td>\n",
       "      <td>2016-03-21T17:23:53</td>\n",
       "    </tr>\n",
       "    <tr>\n",
       "      <td>69723</td>\n",
       "      <td>341397769</td>\n",
       "      <td>201212</td>\n",
       "      <td>93492122002313</td>\n",
       "      <td>990EZ</td>\n",
       "      <td>https://s3.amazonaws.com/irs-form-990/20131122...</td>\n",
       "      <td>BELLEVUE DEVELOPMENT CORP</td>\n",
       "      <td>2013-07-24</td>\n",
       "      <td>201311229349200231</td>\n",
       "      <td>2016-03-21T17:23:53</td>\n",
       "    </tr>\n",
       "    <tr>\n",
       "      <td>71826</td>\n",
       "      <td>341397769</td>\n",
       "      <td>201212</td>\n",
       "      <td>93492122002313</td>\n",
       "      <td>990EZ</td>\n",
       "      <td>https://s3.amazonaws.com/irs-form-990/20131122...</td>\n",
       "      <td>BELLEVUE DEVELOPMENT CORP</td>\n",
       "      <td>2013-07-25</td>\n",
       "      <td>201311229349200231</td>\n",
       "      <td>2016-03-21T17:23:53</td>\n",
       "    </tr>\n",
       "    <tr>\n",
       "      <td>69724</td>\n",
       "      <td>263115088</td>\n",
       "      <td>201212</td>\n",
       "      <td>93492122002413</td>\n",
       "      <td>990EZ</td>\n",
       "      <td>https://s3.amazonaws.com/irs-form-990/20131122...</td>\n",
       "      <td>WORD OF LIFE OUTREACH MINISTRIES</td>\n",
       "      <td>2013-07-24</td>\n",
       "      <td>201311229349200241</td>\n",
       "      <td>2016-03-21T17:23:53</td>\n",
       "    </tr>\n",
       "    <tr>\n",
       "      <td>71827</td>\n",
       "      <td>263115088</td>\n",
       "      <td>201212</td>\n",
       "      <td>93492122002413</td>\n",
       "      <td>990EZ</td>\n",
       "      <td>https://s3.amazonaws.com/irs-form-990/20131122...</td>\n",
       "      <td>WORD OF LIFE OUTREACH MINISTRIES</td>\n",
       "      <td>2013-07-25</td>\n",
       "      <td>201311229349200241</td>\n",
       "      <td>2016-03-21T17:23:53</td>\n",
       "    </tr>\n",
       "    <tr>\n",
       "      <td>69726</td>\n",
       "      <td>202787636</td>\n",
       "      <td>201212</td>\n",
       "      <td>93492122003013</td>\n",
       "      <td>990EZ</td>\n",
       "      <td>https://s3.amazonaws.com/irs-form-990/20131122...</td>\n",
       "      <td>HISTORIC POOLE FORGE INC</td>\n",
       "      <td>2013-07-24</td>\n",
       "      <td>201311229349200301</td>\n",
       "      <td>2016-03-21T17:23:53</td>\n",
       "    </tr>\n",
       "    <tr>\n",
       "      <td>71828</td>\n",
       "      <td>202787636</td>\n",
       "      <td>201212</td>\n",
       "      <td>93492122003013</td>\n",
       "      <td>990EZ</td>\n",
       "      <td>https://s3.amazonaws.com/irs-form-990/20131122...</td>\n",
       "      <td>HISTORIC POOLE FORGE INC</td>\n",
       "      <td>2013-07-25</td>\n",
       "      <td>201311229349200301</td>\n",
       "      <td>2016-03-21T17:23:53</td>\n",
       "    </tr>\n",
       "    <tr>\n",
       "      <td>69727</td>\n",
       "      <td>133944085</td>\n",
       "      <td>201212</td>\n",
       "      <td>93492122003063</td>\n",
       "      <td>990EZ</td>\n",
       "      <td>https://s3.amazonaws.com/irs-form-990/20131122...</td>\n",
       "      <td>NATIONAL CONFERENCE OF SHOMRIM SOCIETIES INC</td>\n",
       "      <td>2013-07-24</td>\n",
       "      <td>201311229349200306</td>\n",
       "      <td>2016-03-21T17:23:53</td>\n",
       "    </tr>\n",
       "    <tr>\n",
       "      <td>71829</td>\n",
       "      <td>133944085</td>\n",
       "      <td>201212</td>\n",
       "      <td>93492122003063</td>\n",
       "      <td>990EZ</td>\n",
       "      <td>https://s3.amazonaws.com/irs-form-990/20131122...</td>\n",
       "      <td>NATIONAL CONFERENCE OF SHOMRIM SOCIETIES INC</td>\n",
       "      <td>2013-07-25</td>\n",
       "      <td>201311229349200306</td>\n",
       "      <td>2016-03-21T17:23:53</td>\n",
       "    </tr>\n",
       "    <tr>\n",
       "      <td>69729</td>\n",
       "      <td>251520627</td>\n",
       "      <td>201212</td>\n",
       "      <td>93492122003163</td>\n",
       "      <td>990EZ</td>\n",
       "      <td>https://s3.amazonaws.com/irs-form-990/20131122...</td>\n",
       "      <td>WEST PENN AMATEUR TENNIS ASSOC</td>\n",
       "      <td>2013-07-24</td>\n",
       "      <td>201311229349200316</td>\n",
       "      <td>2016-03-21T17:23:53</td>\n",
       "    </tr>\n",
       "    <tr>\n",
       "      <td>71830</td>\n",
       "      <td>251520627</td>\n",
       "      <td>201212</td>\n",
       "      <td>93492122003163</td>\n",
       "      <td>990EZ</td>\n",
       "      <td>https://s3.amazonaws.com/irs-form-990/20131122...</td>\n",
       "      <td>WEST PENN AMATEUR TENNIS ASSOC CO DAN HACKETT</td>\n",
       "      <td>2013-07-25</td>\n",
       "      <td>201311229349200316</td>\n",
       "      <td>2016-03-21T17:23:53</td>\n",
       "    </tr>\n",
       "    <tr>\n",
       "      <td>70222</td>\n",
       "      <td>341280845</td>\n",
       "      <td>201212</td>\n",
       "      <td>93492122003313</td>\n",
       "      <td>990EZ</td>\n",
       "      <td>https://s3.amazonaws.com/irs-form-990/20131122...</td>\n",
       "      <td>SPINA BIFIDA ASSOCIATION OF NORTHWEST OHIO INC</td>\n",
       "      <td>2013-07-24</td>\n",
       "      <td>201311229349200331</td>\n",
       "      <td>2016-03-21T17:23:53</td>\n",
       "    </tr>\n",
       "    <tr>\n",
       "      <td>71831</td>\n",
       "      <td>341280845</td>\n",
       "      <td>201212</td>\n",
       "      <td>93492122003313</td>\n",
       "      <td>990EZ</td>\n",
       "      <td>https://s3.amazonaws.com/irs-form-990/20131122...</td>\n",
       "      <td>SPINA BIFIDA ASSOCIATION OF NORTHWEST OHIO INC</td>\n",
       "      <td>2013-07-25</td>\n",
       "      <td>201311229349200331</td>\n",
       "      <td>2016-03-21T17:23:53</td>\n",
       "    </tr>\n",
       "    <tr>\n",
       "      <td>172261</td>\n",
       "      <td>161043575</td>\n",
       "      <td>201303</td>\n",
       "      <td>93493226039913</td>\n",
       "      <td>990</td>\n",
       "      <td>https://s3.amazonaws.com/irs-form-990/20131226...</td>\n",
       "      <td>BETTER CONTRACTORS BUREAU LTD</td>\n",
       "      <td>2013-12-14</td>\n",
       "      <td>201312269349303991</td>\n",
       "      <td>2016-03-21T17:23:53</td>\n",
       "    </tr>\n",
       "    <tr>\n",
       "      <td>183840</td>\n",
       "      <td>161043575</td>\n",
       "      <td>201303</td>\n",
       "      <td>93493226039913</td>\n",
       "      <td>990</td>\n",
       "      <td>https://s3.amazonaws.com/irs-form-990/20131226...</td>\n",
       "      <td>BETTER CONTRACTORS BUREAU LTD</td>\n",
       "      <td>2013-12-14</td>\n",
       "      <td>201312269349303991</td>\n",
       "      <td>2016-03-21T17:23:53</td>\n",
       "    </tr>\n",
       "    <tr>\n",
       "      <td>69725</td>\n",
       "      <td>270004168</td>\n",
       "      <td>201212</td>\n",
       "      <td>93492122002463</td>\n",
       "      <td>990EZ</td>\n",
       "      <td>https://s3.amazonaws.com/irs-form-990/20131122...</td>\n",
       "      <td>CROSSROADS AT PARK PLACE INC</td>\n",
       "      <td>2013-07-24</td>\n",
       "      <td>201311229349200246</td>\n",
       "      <td>2016-03-21T17:23:53</td>\n",
       "    </tr>\n",
       "    <tr>\n",
       "      <td>217142</td>\n",
       "      <td>270004168</td>\n",
       "      <td>201212</td>\n",
       "      <td>93492122002463</td>\n",
       "      <td>990EZ</td>\n",
       "      <td>https://s3.amazonaws.com/irs-form-990/20131122...</td>\n",
       "      <td>CROSSROADS AT PARK PLACE INC</td>\n",
       "      <td>2013-07-25</td>\n",
       "      <td>201311229349200246</td>\n",
       "      <td>2016-03-21T17:23:53</td>\n",
       "    </tr>\n",
       "    <tr>\n",
       "      <td>69728</td>\n",
       "      <td>742338363</td>\n",
       "      <td>201212</td>\n",
       "      <td>93492122003113</td>\n",
       "      <td>990EZ</td>\n",
       "      <td>https://s3.amazonaws.com/irs-form-990/20131122...</td>\n",
       "      <td>IMPOSSIBLE PLAYERS INC</td>\n",
       "      <td>2013-07-24</td>\n",
       "      <td>201311229349200311</td>\n",
       "      <td>2016-03-21T17:23:53</td>\n",
       "    </tr>\n",
       "    <tr>\n",
       "      <td>217143</td>\n",
       "      <td>742338363</td>\n",
       "      <td>201212</td>\n",
       "      <td>93492122003113</td>\n",
       "      <td>990EZ</td>\n",
       "      <td>https://s3.amazonaws.com/irs-form-990/20131122...</td>\n",
       "      <td>IMPOSSIBLE PLAYERS INC</td>\n",
       "      <td>2013-07-25</td>\n",
       "      <td>201311229349200311</td>\n",
       "      <td>2016-03-21T17:23:53</td>\n",
       "    </tr>\n",
       "    <tr>\n",
       "      <td>70221</td>\n",
       "      <td>263611668</td>\n",
       "      <td>201212</td>\n",
       "      <td>93492122003263</td>\n",
       "      <td>990EZ</td>\n",
       "      <td>https://s3.amazonaws.com/irs-form-990/20131122...</td>\n",
       "      <td>NEWARK FAMILY FOUNDATION</td>\n",
       "      <td>2013-07-24</td>\n",
       "      <td>201311229349200326</td>\n",
       "      <td>2016-03-21T17:23:53</td>\n",
       "    </tr>\n",
       "    <tr>\n",
       "      <td>217144</td>\n",
       "      <td>263611668</td>\n",
       "      <td>201212</td>\n",
       "      <td>93492122003263</td>\n",
       "      <td>990EZ</td>\n",
       "      <td>https://s3.amazonaws.com/irs-form-990/20131122...</td>\n",
       "      <td>NEWARK FAMILY FOUNDATION</td>\n",
       "      <td>2013-07-25</td>\n",
       "      <td>201311229349200326</td>\n",
       "      <td>2016-03-21T17:23:53</td>\n",
       "    </tr>\n",
       "    <tr>\n",
       "      <td>71825</td>\n",
       "      <td>226089466</td>\n",
       "      <td>201212</td>\n",
       "      <td>93492122002263</td>\n",
       "      <td>990EZ</td>\n",
       "      <td>https://s3.amazonaws.com/irs-form-990/20131122...</td>\n",
       "      <td>LITTLE LEAGUE INC WOODSTOWN</td>\n",
       "      <td>2013-07-25</td>\n",
       "      <td>201311229349200226</td>\n",
       "      <td>2016-03-21T17:23:53</td>\n",
       "    </tr>\n",
       "    <tr>\n",
       "      <td>257543</td>\n",
       "      <td>226089466</td>\n",
       "      <td>201212</td>\n",
       "      <td>93492122002263</td>\n",
       "      <td>990EZ</td>\n",
       "      <td>https://s3.amazonaws.com/irs-form-990/20131122...</td>\n",
       "      <td>LITTLE LEAGUE INC WOODSTOWN</td>\n",
       "      <td>2013-07-24</td>\n",
       "      <td>201311229349200226</td>\n",
       "      <td>2016-03-21T17:23:53</td>\n",
       "    </tr>\n",
       "  </tbody>\n",
       "</table>\n",
       "</div>"
      ],
      "text/plain": [
       "              EIN TaxPeriod             DLN FormType  \\\n",
       "69719   141910988    201212  93492122002013    990EZ   \n",
       "71821   141910988    201212  93492122002013    990EZ   \n",
       "69720   311451834    201212  93492122002063    990EZ   \n",
       "71822   311451834    201212  93492122002063    990EZ   \n",
       "69721   237448364    201212  93492122002113    990EZ   \n",
       "71823   237448364    201212  93492122002113    990EZ   \n",
       "69722   222802132    201303  93492122002163    990EZ   \n",
       "71824   222802132    201303  93492122002163    990EZ   \n",
       "69723   341397769    201212  93492122002313    990EZ   \n",
       "71826   341397769    201212  93492122002313    990EZ   \n",
       "69724   263115088    201212  93492122002413    990EZ   \n",
       "71827   263115088    201212  93492122002413    990EZ   \n",
       "69726   202787636    201212  93492122003013    990EZ   \n",
       "71828   202787636    201212  93492122003013    990EZ   \n",
       "69727   133944085    201212  93492122003063    990EZ   \n",
       "71829   133944085    201212  93492122003063    990EZ   \n",
       "69729   251520627    201212  93492122003163    990EZ   \n",
       "71830   251520627    201212  93492122003163    990EZ   \n",
       "70222   341280845    201212  93492122003313    990EZ   \n",
       "71831   341280845    201212  93492122003313    990EZ   \n",
       "172261  161043575    201303  93493226039913      990   \n",
       "183840  161043575    201303  93493226039913      990   \n",
       "69725   270004168    201212  93492122002463    990EZ   \n",
       "217142  270004168    201212  93492122002463    990EZ   \n",
       "69728   742338363    201212  93492122003113    990EZ   \n",
       "217143  742338363    201212  93492122003113    990EZ   \n",
       "70221   263611668    201212  93492122003263    990EZ   \n",
       "217144  263611668    201212  93492122003263    990EZ   \n",
       "71825   226089466    201212  93492122002263    990EZ   \n",
       "257543  226089466    201212  93492122002263    990EZ   \n",
       "\n",
       "                                                      URL  \\\n",
       "69719   https://s3.amazonaws.com/irs-form-990/20131122...   \n",
       "71821   https://s3.amazonaws.com/irs-form-990/20131122...   \n",
       "69720   https://s3.amazonaws.com/irs-form-990/20131122...   \n",
       "71822   https://s3.amazonaws.com/irs-form-990/20131122...   \n",
       "69721   https://s3.amazonaws.com/irs-form-990/20131122...   \n",
       "71823   https://s3.amazonaws.com/irs-form-990/20131122...   \n",
       "69722   https://s3.amazonaws.com/irs-form-990/20131122...   \n",
       "71824   https://s3.amazonaws.com/irs-form-990/20131122...   \n",
       "69723   https://s3.amazonaws.com/irs-form-990/20131122...   \n",
       "71826   https://s3.amazonaws.com/irs-form-990/20131122...   \n",
       "69724   https://s3.amazonaws.com/irs-form-990/20131122...   \n",
       "71827   https://s3.amazonaws.com/irs-form-990/20131122...   \n",
       "69726   https://s3.amazonaws.com/irs-form-990/20131122...   \n",
       "71828   https://s3.amazonaws.com/irs-form-990/20131122...   \n",
       "69727   https://s3.amazonaws.com/irs-form-990/20131122...   \n",
       "71829   https://s3.amazonaws.com/irs-form-990/20131122...   \n",
       "69729   https://s3.amazonaws.com/irs-form-990/20131122...   \n",
       "71830   https://s3.amazonaws.com/irs-form-990/20131122...   \n",
       "70222   https://s3.amazonaws.com/irs-form-990/20131122...   \n",
       "71831   https://s3.amazonaws.com/irs-form-990/20131122...   \n",
       "172261  https://s3.amazonaws.com/irs-form-990/20131226...   \n",
       "183840  https://s3.amazonaws.com/irs-form-990/20131226...   \n",
       "69725   https://s3.amazonaws.com/irs-form-990/20131122...   \n",
       "217142  https://s3.amazonaws.com/irs-form-990/20131122...   \n",
       "69728   https://s3.amazonaws.com/irs-form-990/20131122...   \n",
       "217143  https://s3.amazonaws.com/irs-form-990/20131122...   \n",
       "70221   https://s3.amazonaws.com/irs-form-990/20131122...   \n",
       "217144  https://s3.amazonaws.com/irs-form-990/20131122...   \n",
       "71825   https://s3.amazonaws.com/irs-form-990/20131122...   \n",
       "257543  https://s3.amazonaws.com/irs-form-990/20131122...   \n",
       "\n",
       "                                      OrganizationName SubmittedOn  \\\n",
       "69719                          HIV DENTAL ALLIANCE INC  2013-07-24   \n",
       "71821                          HIV DENTAL ALLIANCE INC  2013-07-25   \n",
       "69720                                    I AM SOMEBODY  2013-07-24   \n",
       "71822                                    I AM SOMEBODY  2013-07-25   \n",
       "69721                             PIER ONE THEATRE INC  2013-07-24   \n",
       "71823                             PIER ONE THEATRE INC  2013-07-25   \n",
       "69722             MARPLE-NEWTON SOCCER ASSOCIATION INC  2013-07-24   \n",
       "71824             MARPLE-NEWTON SOCCER ASSOCIATION INC  2013-07-25   \n",
       "69723                        BELLEVUE DEVELOPMENT CORP  2013-07-24   \n",
       "71826                        BELLEVUE DEVELOPMENT CORP  2013-07-25   \n",
       "69724                 WORD OF LIFE OUTREACH MINISTRIES  2013-07-24   \n",
       "71827                 WORD OF LIFE OUTREACH MINISTRIES  2013-07-25   \n",
       "69726                         HISTORIC POOLE FORGE INC  2013-07-24   \n",
       "71828                         HISTORIC POOLE FORGE INC  2013-07-25   \n",
       "69727     NATIONAL CONFERENCE OF SHOMRIM SOCIETIES INC  2013-07-24   \n",
       "71829     NATIONAL CONFERENCE OF SHOMRIM SOCIETIES INC  2013-07-25   \n",
       "69729                   WEST PENN AMATEUR TENNIS ASSOC  2013-07-24   \n",
       "71830    WEST PENN AMATEUR TENNIS ASSOC CO DAN HACKETT  2013-07-25   \n",
       "70222   SPINA BIFIDA ASSOCIATION OF NORTHWEST OHIO INC  2013-07-24   \n",
       "71831   SPINA BIFIDA ASSOCIATION OF NORTHWEST OHIO INC  2013-07-25   \n",
       "172261                   BETTER CONTRACTORS BUREAU LTD  2013-12-14   \n",
       "183840                   BETTER CONTRACTORS BUREAU LTD  2013-12-14   \n",
       "69725                     CROSSROADS AT PARK PLACE INC  2013-07-24   \n",
       "217142                    CROSSROADS AT PARK PLACE INC  2013-07-25   \n",
       "69728                           IMPOSSIBLE PLAYERS INC  2013-07-24   \n",
       "217143                          IMPOSSIBLE PLAYERS INC  2013-07-25   \n",
       "70221                         NEWARK FAMILY FOUNDATION  2013-07-24   \n",
       "217144                        NEWARK FAMILY FOUNDATION  2013-07-25   \n",
       "71825                      LITTLE LEAGUE INC WOODSTOWN  2013-07-25   \n",
       "257543                     LITTLE LEAGUE INC WOODSTOWN  2013-07-24   \n",
       "\n",
       "                  ObjectId          LastUpdated  \n",
       "69719   201311229349200201  2016-03-21T17:23:53  \n",
       "71821   201311229349200201  2016-03-21T17:23:53  \n",
       "69720   201311229349200206  2016-03-21T17:23:53  \n",
       "71822   201311229349200206  2016-03-21T17:23:53  \n",
       "69721   201311229349200211  2016-03-21T17:23:53  \n",
       "71823   201311229349200211  2016-03-21T17:23:53  \n",
       "69722   201311229349200216  2016-03-21T17:23:53  \n",
       "71824   201311229349200216  2016-03-21T17:23:53  \n",
       "69723   201311229349200231  2016-03-21T17:23:53  \n",
       "71826   201311229349200231  2016-03-21T17:23:53  \n",
       "69724   201311229349200241  2016-03-21T17:23:53  \n",
       "71827   201311229349200241  2016-03-21T17:23:53  \n",
       "69726   201311229349200301  2016-03-21T17:23:53  \n",
       "71828   201311229349200301  2016-03-21T17:23:53  \n",
       "69727   201311229349200306  2016-03-21T17:23:53  \n",
       "71829   201311229349200306  2016-03-21T17:23:53  \n",
       "69729   201311229349200316  2016-03-21T17:23:53  \n",
       "71830   201311229349200316  2016-03-21T17:23:53  \n",
       "70222   201311229349200331  2016-03-21T17:23:53  \n",
       "71831   201311229349200331  2016-03-21T17:23:53  \n",
       "172261  201312269349303991  2016-03-21T17:23:53  \n",
       "183840  201312269349303991  2016-03-21T17:23:53  \n",
       "69725   201311229349200246  2016-03-21T17:23:53  \n",
       "217142  201311229349200246  2016-03-21T17:23:53  \n",
       "69728   201311229349200311  2016-03-21T17:23:53  \n",
       "217143  201311229349200311  2016-03-21T17:23:53  \n",
       "70221   201311229349200326  2016-03-21T17:23:53  \n",
       "217144  201311229349200326  2016-03-21T17:23:53  \n",
       "71825   201311229349200226  2016-03-21T17:23:53  \n",
       "257543  201311229349200226  2016-03-21T17:23:53  "
      ]
     },
     "execution_count": 60,
     "metadata": {},
     "output_type": "execute_result"
    }
   ],
   "source": [
    "duplicates"
   ]
  },
  {
   "cell_type": "code",
   "execution_count": null,
   "metadata": {},
   "outputs": [],
   "source": []
  }
 ],
 "metadata": {
  "kernelspec": {
   "display_name": "Python 3",
   "language": "python",
   "name": "python3"
  },
  "language_info": {
   "codemirror_mode": {
    "name": "ipython",
    "version": 3
   },
   "file_extension": ".py",
   "mimetype": "text/x-python",
   "name": "python",
   "nbconvert_exporter": "python",
   "pygments_lexer": "ipython3",
   "version": "3.6.9"
  }
 },
 "nbformat": 4,
 "nbformat_minor": 2
}
