{
 "cells": [
  {
   "cell_type": "code",
   "execution_count": 1,
   "metadata": {},
   "outputs": [],
   "source": [
    "import numpy as np\n",
    "import pandas as pd\n",
    "import requests\n",
    "import re\n",
    "import json\n",
    "from os import walk\n",
    "from multiprocessing.pool import ThreadPool"
   ]
  },
  {
   "cell_type": "code",
   "execution_count": 2,
   "metadata": {},
   "outputs": [],
   "source": [
    "URL = \"https://s3.amazonaws.com/irs-form-990/index_2016.json\"\n",
    "\n",
    "response = requests.get(URL)\n",
    "with open(\"index_2016.json\", 'wb') as f:\n",
    "    f.write(response.content)"
   ]
  },
  {
   "cell_type": "code",
   "execution_count": 3,
   "metadata": {},
   "outputs": [],
   "source": [
    "with open(\"index_2016.json\") as f:\n",
    "    data = json.load(f)\n",
    "    data = data[list(data.keys())[0]]"
   ]
  },
  {
   "cell_type": "code",
   "execution_count": 4,
   "metadata": {},
   "outputs": [
    {
     "data": {
      "text/html": [
       "<div>\n",
       "<style scoped>\n",
       "    .dataframe tbody tr th:only-of-type {\n",
       "        vertical-align: middle;\n",
       "    }\n",
       "\n",
       "    .dataframe tbody tr th {\n",
       "        vertical-align: top;\n",
       "    }\n",
       "\n",
       "    .dataframe thead th {\n",
       "        text-align: right;\n",
       "    }\n",
       "</style>\n",
       "<table border=\"1\" class=\"dataframe\">\n",
       "  <thead>\n",
       "    <tr style=\"text-align: right;\">\n",
       "      <th></th>\n",
       "      <th>EIN</th>\n",
       "      <th>TaxPeriod</th>\n",
       "      <th>DLN</th>\n",
       "      <th>FormType</th>\n",
       "      <th>URL</th>\n",
       "      <th>OrganizationName</th>\n",
       "      <th>SubmittedOn</th>\n",
       "      <th>ObjectId</th>\n",
       "      <th>LastUpdated</th>\n",
       "    </tr>\n",
       "  </thead>\n",
       "  <tbody>\n",
       "    <tr>\n",
       "      <td>378415</td>\n",
       "      <td>742320663</td>\n",
       "      <td>201509</td>\n",
       "      <td>93493228037496</td>\n",
       "      <td>990</td>\n",
       "      <td>https://s3.amazonaws.com/irs-form-990/20164228...</td>\n",
       "      <td>CASA DE AMIGOS OF WILLACY COUNTY INC</td>\n",
       "      <td>2016-12-29</td>\n",
       "      <td>201642289349303749</td>\n",
       "      <td>2017-01-11T22:15:19.7260064Z</td>\n",
       "    </tr>\n",
       "    <tr>\n",
       "      <td>378416</td>\n",
       "      <td>581897269</td>\n",
       "      <td>201509</td>\n",
       "      <td>93493228037946</td>\n",
       "      <td>990</td>\n",
       "      <td>https://s3.amazonaws.com/irs-form-990/20164228...</td>\n",
       "      <td>ANNIE PENN MEMORIAL HOSPITAL FOUNDATION</td>\n",
       "      <td>2016-12-29</td>\n",
       "      <td>201642289349303794</td>\n",
       "      <td>2017-01-11T22:15:19.7260064Z</td>\n",
       "    </tr>\n",
       "    <tr>\n",
       "      <td>378417</td>\n",
       "      <td>566049500</td>\n",
       "      <td>201512</td>\n",
       "      <td>93493228038096</td>\n",
       "      <td>990</td>\n",
       "      <td>https://s3.amazonaws.com/irs-form-990/20164228...</td>\n",
       "      <td>NC MASONIC FOUNDATION INC</td>\n",
       "      <td>2016-12-29</td>\n",
       "      <td>201642289349303809</td>\n",
       "      <td>2017-01-11T22:15:19.7260064Z</td>\n",
       "    </tr>\n",
       "    <tr>\n",
       "      <td>378418</td>\n",
       "      <td>592374971</td>\n",
       "      <td>201603</td>\n",
       "      <td>93493228038146</td>\n",
       "      <td>990</td>\n",
       "      <td>https://s3.amazonaws.com/irs-form-990/20164228...</td>\n",
       "      <td>SOUTH HILLSBOROUGH LODGE NO 2672 BPOE OF THE USA</td>\n",
       "      <td>2016-12-29</td>\n",
       "      <td>201642289349303814</td>\n",
       "      <td>2017-01-11T22:15:19.7260064Z</td>\n",
       "    </tr>\n",
       "    <tr>\n",
       "      <td>378419</td>\n",
       "      <td>237107846</td>\n",
       "      <td>201512</td>\n",
       "      <td>93492135010746</td>\n",
       "      <td>990EZ</td>\n",
       "      <td>https://s3.amazonaws.com/irs-form-990/20164135...</td>\n",
       "      <td>SOUTH TOMS RIVER VOLUNTEER FIRST AID SQUAD INC</td>\n",
       "      <td>2016-12-28</td>\n",
       "      <td>201641359349201074</td>\n",
       "      <td>2017-01-11T22:15:19.7280064Z</td>\n",
       "    </tr>\n",
       "  </tbody>\n",
       "</table>\n",
       "</div>"
      ],
      "text/plain": [
       "              EIN TaxPeriod             DLN FormType  \\\n",
       "378415  742320663    201509  93493228037496      990   \n",
       "378416  581897269    201509  93493228037946      990   \n",
       "378417  566049500    201512  93493228038096      990   \n",
       "378418  592374971    201603  93493228038146      990   \n",
       "378419  237107846    201512  93492135010746    990EZ   \n",
       "\n",
       "                                                      URL  \\\n",
       "378415  https://s3.amazonaws.com/irs-form-990/20164228...   \n",
       "378416  https://s3.amazonaws.com/irs-form-990/20164228...   \n",
       "378417  https://s3.amazonaws.com/irs-form-990/20164228...   \n",
       "378418  https://s3.amazonaws.com/irs-form-990/20164228...   \n",
       "378419  https://s3.amazonaws.com/irs-form-990/20164135...   \n",
       "\n",
       "                                        OrganizationName SubmittedOn  \\\n",
       "378415              CASA DE AMIGOS OF WILLACY COUNTY INC  2016-12-29   \n",
       "378416           ANNIE PENN MEMORIAL HOSPITAL FOUNDATION  2016-12-29   \n",
       "378417                         NC MASONIC FOUNDATION INC  2016-12-29   \n",
       "378418  SOUTH HILLSBOROUGH LODGE NO 2672 BPOE OF THE USA  2016-12-29   \n",
       "378419    SOUTH TOMS RIVER VOLUNTEER FIRST AID SQUAD INC  2016-12-28   \n",
       "\n",
       "                  ObjectId                   LastUpdated  \n",
       "378415  201642289349303749  2017-01-11T22:15:19.7260064Z  \n",
       "378416  201642289349303794  2017-01-11T22:15:19.7260064Z  \n",
       "378417  201642289349303809  2017-01-11T22:15:19.7260064Z  \n",
       "378418  201642289349303814  2017-01-11T22:15:19.7260064Z  \n",
       "378419  201641359349201074  2017-01-11T22:15:19.7280064Z  "
      ]
     },
     "execution_count": 4,
     "metadata": {},
     "output_type": "execute_result"
    }
   ],
   "source": [
    "df = pd.DataFrame.from_dict(data)\n",
    "df.tail(5)"
   ]
  },
  {
   "cell_type": "code",
   "execution_count": 5,
   "metadata": {},
   "outputs": [
    {
     "data": {
      "text/plain": [
       "(378420, 9)"
      ]
     },
     "execution_count": 5,
     "metadata": {},
     "output_type": "execute_result"
    }
   ],
   "source": [
    "df.shape"
   ]
  },
  {
   "cell_type": "code",
   "execution_count": 6,
   "metadata": {},
   "outputs": [],
   "source": [
    "def download_url(url):\n",
    "    file_name_start = url.rfind('/') + 1\n",
    "    file_name = url[file_name_start:]\n",
    "    output_dir = \"/home/meso/git_repo/exploring_990/data_2016/\"\n",
    "    file_name = output_dir + file_name\n",
    "    \n",
    "    r = requests.get(url, stream=True)\n",
    "    if r.status_code == requests.codes.ok:\n",
    "        with open(file_name, 'wb') as f:\n",
    "            f.write(r.content)\n",
    "    return url\n",
    "\n",
    "urls = []\n",
    "for i in range(df.shape[0]): \n",
    "    urls.append(data[i]['URL'])\n",
    "    \n",
    "results = ThreadPool(100).imap_unordered(download_url, urls)"
   ]
  },
  {
   "cell_type": "code",
   "execution_count": 7,
   "metadata": {},
   "outputs": [],
   "source": [
    "f = []\n",
    "for (dirpath, dirnames, filenames) in walk('/home/meso/git_repo/exploring_990/data_2016/'):\n",
    "    f.extend(filenames)\n",
    "    break"
   ]
  },
  {
   "cell_type": "code",
   "execution_count": 8,
   "metadata": {},
   "outputs": [
    {
     "data": {
      "text/plain": [
       "378420"
      ]
     },
     "execution_count": 8,
     "metadata": {},
     "output_type": "execute_result"
    }
   ],
   "source": [
    "u = list(df['URL'])\n",
    "len(u)"
   ]
  },
  {
   "cell_type": "code",
   "execution_count": 9,
   "metadata": {},
   "outputs": [],
   "source": [
    "file_names_list = []\n",
    "\n",
    "for i in range(len(u)):\n",
    "    file_loc = u[i].rfind(\"/\") + 1\n",
    "    file_name = u[i][file_loc:]\n",
    "    file_names_list.append(file_name)"
   ]
  },
  {
   "cell_type": "code",
   "execution_count": 10,
   "metadata": {},
   "outputs": [
    {
     "name": "stdout",
     "output_type": "stream",
     "text": [
      "378420 : 378177\n"
     ]
    }
   ],
   "source": [
    "print(len(file_names_list), str(\":\"), len(f))"
   ]
  },
  {
   "cell_type": "code",
   "execution_count": 11,
   "metadata": {},
   "outputs": [
    {
     "data": {
      "text/plain": [
       "243"
      ]
     },
     "execution_count": 11,
     "metadata": {},
     "output_type": "execute_result"
    }
   ],
   "source": [
    "diff = list(set(file_names_list) - set(f))\n",
    "len(diff)"
   ]
  },
  {
   "cell_type": "code",
   "execution_count": 12,
   "metadata": {},
   "outputs": [],
   "source": [
    "file_loc = u[i].rfind(\"/\") + 1\n",
    "url_pre = u[0][:file_loc]"
   ]
  },
  {
   "cell_type": "code",
   "execution_count": 13,
   "metadata": {},
   "outputs": [],
   "source": [
    "urls = []\n",
    "for i in range(len(diff)):\n",
    "    url = url_pre + diff[i]\n",
    "    urls.append(url)"
   ]
  },
  {
   "cell_type": "code",
   "execution_count": 14,
   "metadata": {},
   "outputs": [],
   "source": [
    "for url in urls:\n",
    "    download_url(url)"
   ]
  },
  {
   "cell_type": "code",
   "execution_count": 15,
   "metadata": {},
   "outputs": [],
   "source": [
    "f = []\n",
    "for (dirpath, dirnames, filenames) in walk('/home/meso/git_repo/exploring_990/data_2016/'):\n",
    "    f.extend(filenames)\n",
    "    break"
   ]
  },
  {
   "cell_type": "code",
   "execution_count": 16,
   "metadata": {},
   "outputs": [
    {
     "data": {
      "text/plain": [
       "378420"
      ]
     },
     "execution_count": 16,
     "metadata": {},
     "output_type": "execute_result"
    }
   ],
   "source": [
    "len(f)"
   ]
  },
  {
   "cell_type": "code",
   "execution_count": 17,
   "metadata": {},
   "outputs": [
    {
     "data": {
      "text/plain": [
       "0"
      ]
     },
     "execution_count": 17,
     "metadata": {},
     "output_type": "execute_result"
    }
   ],
   "source": [
    "diff = list(set(file_names_list) - set(f))\n",
    "len(diff)"
   ]
  },
  {
   "cell_type": "code",
   "execution_count": 18,
   "metadata": {},
   "outputs": [],
   "source": [
    "def list_duplicates(seq):\n",
    "    seen = set()\n",
    "    seen_add = seen.add\n",
    "    return [idx for idx, item in enumerate(seq) if item in seen or seen_add(item)]"
   ]
  },
  {
   "cell_type": "code",
   "execution_count": 19,
   "metadata": {},
   "outputs": [
    {
     "name": "stdout",
     "output_type": "stream",
     "text": [
      "[]\n"
     ]
    }
   ],
   "source": [
    "print(list_duplicates(file_names_list))"
   ]
  },
  {
   "cell_type": "code",
   "execution_count": 20,
   "metadata": {},
   "outputs": [],
   "source": [
    "dup_df = df.iloc[list_duplicates(file_names_list)]"
   ]
  },
  {
   "cell_type": "code",
   "execution_count": 21,
   "metadata": {},
   "outputs": [],
   "source": [
    "dup_ein = pd.DataFrame(dup_df['EIN'])"
   ]
  },
  {
   "cell_type": "code",
   "execution_count": 22,
   "metadata": {},
   "outputs": [
    {
     "data": {
      "text/html": [
       "<div>\n",
       "<style scoped>\n",
       "    .dataframe tbody tr th:only-of-type {\n",
       "        vertical-align: middle;\n",
       "    }\n",
       "\n",
       "    .dataframe tbody tr th {\n",
       "        vertical-align: top;\n",
       "    }\n",
       "\n",
       "    .dataframe thead th {\n",
       "        text-align: right;\n",
       "    }\n",
       "</style>\n",
       "<table border=\"1\" class=\"dataframe\">\n",
       "  <thead>\n",
       "    <tr style=\"text-align: right;\">\n",
       "      <th></th>\n",
       "      <th>EIN</th>\n",
       "    </tr>\n",
       "  </thead>\n",
       "  <tbody>\n",
       "  </tbody>\n",
       "</table>\n",
       "</div>"
      ],
      "text/plain": [
       "Empty DataFrame\n",
       "Columns: [EIN]\n",
       "Index: []"
      ]
     },
     "execution_count": 22,
     "metadata": {},
     "output_type": "execute_result"
    }
   ],
   "source": [
    "dup_ein"
   ]
  },
  {
   "cell_type": "code",
   "execution_count": 23,
   "metadata": {},
   "outputs": [],
   "source": [
    "duplicates = pd.DataFrame([])\n",
    "\n",
    "for dup in range(dup_ein.shape[0]):\n",
    "    ein = dup_ein.iloc[dup]['EIN']\n",
    "    duplicates = duplicates.append(df[df['EIN'] == ein])"
   ]
  },
  {
   "cell_type": "code",
   "execution_count": 24,
   "metadata": {},
   "outputs": [
    {
     "data": {
      "text/html": [
       "<div>\n",
       "<style scoped>\n",
       "    .dataframe tbody tr th:only-of-type {\n",
       "        vertical-align: middle;\n",
       "    }\n",
       "\n",
       "    .dataframe tbody tr th {\n",
       "        vertical-align: top;\n",
       "    }\n",
       "\n",
       "    .dataframe thead th {\n",
       "        text-align: right;\n",
       "    }\n",
       "</style>\n",
       "<table border=\"1\" class=\"dataframe\">\n",
       "  <thead>\n",
       "    <tr style=\"text-align: right;\">\n",
       "      <th></th>\n",
       "    </tr>\n",
       "  </thead>\n",
       "  <tbody>\n",
       "  </tbody>\n",
       "</table>\n",
       "</div>"
      ],
      "text/plain": [
       "Empty DataFrame\n",
       "Columns: []\n",
       "Index: []"
      ]
     },
     "execution_count": 24,
     "metadata": {},
     "output_type": "execute_result"
    }
   ],
   "source": [
    "duplicates"
   ]
  },
  {
   "cell_type": "code",
   "execution_count": null,
   "metadata": {},
   "outputs": [],
   "source": []
  }
 ],
 "metadata": {
  "kernelspec": {
   "display_name": "Python 3",
   "language": "python",
   "name": "python3"
  },
  "language_info": {
   "codemirror_mode": {
    "name": "ipython",
    "version": 3
   },
   "file_extension": ".py",
   "mimetype": "text/x-python",
   "name": "python",
   "nbconvert_exporter": "python",
   "pygments_lexer": "ipython3",
   "version": "3.6.9"
  }
 },
 "nbformat": 4,
 "nbformat_minor": 2
}
