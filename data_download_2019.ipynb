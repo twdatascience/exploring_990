{
 "cells": [
  {
   "cell_type": "code",
   "execution_count": 1,
   "metadata": {},
   "outputs": [],
   "source": [
    "import numpy as np\n",
    "import pandas as pd\n",
    "import requests\n",
    "import re\n",
    "import json\n",
    "from os import walk\n",
    "from multiprocessing.pool import ThreadPool"
   ]
  },
  {
   "cell_type": "code",
   "execution_count": 2,
   "metadata": {},
   "outputs": [],
   "source": [
    "URL = \"https://s3.amazonaws.com/irs-form-990/index_2019.json\"\n",
    "\n",
    "response = requests.get(URL)\n",
    "with open(\"index_2019.json\", 'wb') as f:\n",
    "    f.write(response.content)"
   ]
  },
  {
   "cell_type": "code",
   "execution_count": 3,
   "metadata": {},
   "outputs": [],
   "source": [
    "with open(\"index_2019.json\") as f:\n",
    "    data = json.load(f)\n",
    "    data = data[list(data.keys())[0]]"
   ]
  },
  {
   "cell_type": "code",
   "execution_count": 4,
   "metadata": {},
   "outputs": [
    {
     "data": {
      "text/html": [
       "<div>\n",
       "<style scoped>\n",
       "    .dataframe tbody tr th:only-of-type {\n",
       "        vertical-align: middle;\n",
       "    }\n",
       "\n",
       "    .dataframe tbody tr th {\n",
       "        vertical-align: top;\n",
       "    }\n",
       "\n",
       "    .dataframe thead th {\n",
       "        text-align: right;\n",
       "    }\n",
       "</style>\n",
       "<table border=\"1\" class=\"dataframe\">\n",
       "  <thead>\n",
       "    <tr style=\"text-align: right;\">\n",
       "      <th></th>\n",
       "      <th>EIN</th>\n",
       "      <th>TaxPeriod</th>\n",
       "      <th>DLN</th>\n",
       "      <th>FormType</th>\n",
       "      <th>URL</th>\n",
       "      <th>OrganizationName</th>\n",
       "      <th>SubmittedOn</th>\n",
       "      <th>ObjectId</th>\n",
       "      <th>LastUpdated</th>\n",
       "    </tr>\n",
       "  </thead>\n",
       "  <tbody>\n",
       "    <tr>\n",
       "      <td>396212</td>\n",
       "      <td>550761361</td>\n",
       "      <td>201906</td>\n",
       "      <td>93493296013149</td>\n",
       "      <td>990</td>\n",
       "      <td>https://s3.amazonaws.com/irs-form-990/20194296...</td>\n",
       "      <td>GLEN DALE VOLUNTEER FIRE DEPARTMENT</td>\n",
       "      <td>2019-12-06</td>\n",
       "      <td>201942969349301314</td>\n",
       "      <td>2019-12-12T23:31:55.5172618Z</td>\n",
       "    </tr>\n",
       "    <tr>\n",
       "      <td>396213</td>\n",
       "      <td>526078441</td>\n",
       "      <td>201906</td>\n",
       "      <td>93493296013399</td>\n",
       "      <td>990</td>\n",
       "      <td>https://s3.amazonaws.com/irs-form-990/20194296...</td>\n",
       "      <td>COMMON CAUSE</td>\n",
       "      <td>2019-12-06</td>\n",
       "      <td>201942969349301339</td>\n",
       "      <td>2019-12-12T23:31:55.5172618Z</td>\n",
       "    </tr>\n",
       "    <tr>\n",
       "      <td>396214</td>\n",
       "      <td>460377419</td>\n",
       "      <td>201906</td>\n",
       "      <td>93493296013449</td>\n",
       "      <td>990</td>\n",
       "      <td>https://s3.amazonaws.com/irs-form-990/20194296...</td>\n",
       "      <td>NEW DAWN ENTERPRISES</td>\n",
       "      <td>2019-12-05</td>\n",
       "      <td>201942969349301344</td>\n",
       "      <td>2019-12-12T23:31:55.5172618Z</td>\n",
       "    </tr>\n",
       "    <tr>\n",
       "      <td>396215</td>\n",
       "      <td>205239366</td>\n",
       "      <td>201812</td>\n",
       "      <td>93493296015049</td>\n",
       "      <td>990</td>\n",
       "      <td>https://s3.amazonaws.com/irs-form-990/20194296...</td>\n",
       "      <td>JOHN PAUL II MEDICAL RESEARCH INSTITUTE</td>\n",
       "      <td>2019-12-05</td>\n",
       "      <td>201942969349301504</td>\n",
       "      <td>2019-12-12T23:31:55.5172618Z</td>\n",
       "    </tr>\n",
       "    <tr>\n",
       "      <td>396216</td>\n",
       "      <td>810481055</td>\n",
       "      <td>201906</td>\n",
       "      <td>93493303009239</td>\n",
       "      <td>990</td>\n",
       "      <td>https://s3.amazonaws.com/irs-form-990/20193303...</td>\n",
       "      <td>ROI FOUNDATION INC</td>\n",
       "      <td>2019-12-06</td>\n",
       "      <td>201933039349300923</td>\n",
       "      <td>2019-12-12T23:31:55.5172618Z</td>\n",
       "    </tr>\n",
       "  </tbody>\n",
       "</table>\n",
       "</div>"
      ],
      "text/plain": [
       "              EIN TaxPeriod             DLN FormType  \\\n",
       "396212  550761361    201906  93493296013149      990   \n",
       "396213  526078441    201906  93493296013399      990   \n",
       "396214  460377419    201906  93493296013449      990   \n",
       "396215  205239366    201812  93493296015049      990   \n",
       "396216  810481055    201906  93493303009239      990   \n",
       "\n",
       "                                                      URL  \\\n",
       "396212  https://s3.amazonaws.com/irs-form-990/20194296...   \n",
       "396213  https://s3.amazonaws.com/irs-form-990/20194296...   \n",
       "396214  https://s3.amazonaws.com/irs-form-990/20194296...   \n",
       "396215  https://s3.amazonaws.com/irs-form-990/20194296...   \n",
       "396216  https://s3.amazonaws.com/irs-form-990/20193303...   \n",
       "\n",
       "                               OrganizationName SubmittedOn  \\\n",
       "396212      GLEN DALE VOLUNTEER FIRE DEPARTMENT  2019-12-06   \n",
       "396213                             COMMON CAUSE  2019-12-06   \n",
       "396214                     NEW DAWN ENTERPRISES  2019-12-05   \n",
       "396215  JOHN PAUL II MEDICAL RESEARCH INSTITUTE  2019-12-05   \n",
       "396216                       ROI FOUNDATION INC  2019-12-06   \n",
       "\n",
       "                  ObjectId                   LastUpdated  \n",
       "396212  201942969349301314  2019-12-12T23:31:55.5172618Z  \n",
       "396213  201942969349301339  2019-12-12T23:31:55.5172618Z  \n",
       "396214  201942969349301344  2019-12-12T23:31:55.5172618Z  \n",
       "396215  201942969349301504  2019-12-12T23:31:55.5172618Z  \n",
       "396216  201933039349300923  2019-12-12T23:31:55.5172618Z  "
      ]
     },
     "execution_count": 4,
     "metadata": {},
     "output_type": "execute_result"
    }
   ],
   "source": [
    "df = pd.DataFrame.from_dict(data)\n",
    "df.tail(5)"
   ]
  },
  {
   "cell_type": "code",
   "execution_count": 5,
   "metadata": {},
   "outputs": [
    {
     "data": {
      "text/plain": [
       "(396217, 9)"
      ]
     },
     "execution_count": 5,
     "metadata": {},
     "output_type": "execute_result"
    }
   ],
   "source": [
    "df.shape"
   ]
  },
  {
   "cell_type": "code",
   "execution_count": 6,
   "metadata": {},
   "outputs": [],
   "source": [
    "def download_url(url):\n",
    "    file_name_start = url.rfind('/') + 1\n",
    "    file_name = url[file_name_start:]\n",
    "    output_dir = \"/home/meso/git_repo/exploring_990/data_2019/\"\n",
    "    file_name = output_dir + file_name\n",
    "    \n",
    "    r = requests.get(url, stream=True)\n",
    "    if r.status_code == requests.codes.ok:\n",
    "        with open(file_name, 'wb') as f:\n",
    "            f.write(r.content)\n",
    "    return url\n",
    "\n",
    "urls = []\n",
    "for i in range(df.shape[0]): \n",
    "    urls.append(data[i]['URL'])\n",
    "    \n",
    "results = ThreadPool(100).imap_unordered(download_url, urls)"
   ]
  },
  {
   "cell_type": "code",
   "execution_count": 23,
   "metadata": {},
   "outputs": [],
   "source": [
    "f = []\n",
    "for (dirpath, dirnames, filenames) in walk('/home/meso/git_repo/exploring_990/data_2019/'):\n",
    "    f.extend(filenames)\n",
    "    break"
   ]
  },
  {
   "cell_type": "code",
   "execution_count": 24,
   "metadata": {},
   "outputs": [
    {
     "data": {
      "text/plain": [
       "396217"
      ]
     },
     "execution_count": 24,
     "metadata": {},
     "output_type": "execute_result"
    }
   ],
   "source": [
    "u = list(df['URL'])\n",
    "len(u)"
   ]
  },
  {
   "cell_type": "code",
   "execution_count": 25,
   "metadata": {},
   "outputs": [],
   "source": [
    "file_names_list = []\n",
    "\n",
    "for i in range(len(u)):\n",
    "    file_loc = u[i].rfind(\"/\") + 1\n",
    "    file_name = u[i][file_loc:]\n",
    "    file_names_list.append(file_name)"
   ]
  },
  {
   "cell_type": "code",
   "execution_count": 26,
   "metadata": {},
   "outputs": [
    {
     "name": "stdout",
     "output_type": "stream",
     "text": [
      "396217 : 396187\n"
     ]
    }
   ],
   "source": [
    "print(len(file_names_list), str(\":\"), len(f))"
   ]
  },
  {
   "cell_type": "code",
   "execution_count": 27,
   "metadata": {},
   "outputs": [
    {
     "data": {
      "text/plain": [
       "0"
      ]
     },
     "execution_count": 27,
     "metadata": {},
     "output_type": "execute_result"
    }
   ],
   "source": [
    "diff = list(set(file_names_list) - set(f))\n",
    "len(diff)"
   ]
  },
  {
   "cell_type": "code",
   "execution_count": 28,
   "metadata": {},
   "outputs": [],
   "source": [
    "file_loc = u[i].rfind(\"/\") + 1\n",
    "url_pre = u[0][:file_loc]"
   ]
  },
  {
   "cell_type": "code",
   "execution_count": 29,
   "metadata": {},
   "outputs": [],
   "source": [
    "urls = []\n",
    "for i in range(len(diff)):\n",
    "    url = url_pre + diff[i]\n",
    "    urls.append(url)"
   ]
  },
  {
   "cell_type": "code",
   "execution_count": 30,
   "metadata": {},
   "outputs": [],
   "source": [
    "for url in urls:\n",
    "    download_url(url)"
   ]
  },
  {
   "cell_type": "code",
   "execution_count": 31,
   "metadata": {},
   "outputs": [],
   "source": [
    "f = []\n",
    "for (dirpath, dirnames, filenames) in walk('/home/meso/git_repo/exploring_990/data_2019/'):\n",
    "    f.extend(filenames)\n",
    "    break"
   ]
  },
  {
   "cell_type": "code",
   "execution_count": 32,
   "metadata": {},
   "outputs": [
    {
     "data": {
      "text/plain": [
       "396187"
      ]
     },
     "execution_count": 32,
     "metadata": {},
     "output_type": "execute_result"
    }
   ],
   "source": [
    "len(f)"
   ]
  },
  {
   "cell_type": "code",
   "execution_count": 33,
   "metadata": {},
   "outputs": [
    {
     "data": {
      "text/plain": [
       "0"
      ]
     },
     "execution_count": 33,
     "metadata": {},
     "output_type": "execute_result"
    }
   ],
   "source": [
    "diff = list(set(file_names_list) - set(f))\n",
    "len(diff)"
   ]
  },
  {
   "cell_type": "code",
   "execution_count": 34,
   "metadata": {},
   "outputs": [],
   "source": [
    "def list_duplicates(seq):\n",
    "    seen = set()\n",
    "    seen_add = seen.add\n",
    "    return [idx for idx, item in enumerate(seq) if item in seen or seen_add(item)]"
   ]
  },
  {
   "cell_type": "code",
   "execution_count": 35,
   "metadata": {},
   "outputs": [
    {
     "name": "stdout",
     "output_type": "stream",
     "text": [
      "[85406, 85408, 85410, 85412, 85414, 85998, 86689, 86690, 86691, 86692, 86693, 86694, 86695, 86696, 86697, 86698, 86700, 86701, 86702, 86703, 86704, 86705, 86706, 86707, 86708, 86709, 86710, 89282, 89283, 91562]\n"
     ]
    }
   ],
   "source": [
    "print(list_duplicates(file_names_list))"
   ]
  },
  {
   "cell_type": "code",
   "execution_count": 36,
   "metadata": {},
   "outputs": [],
   "source": [
    "dup_df = df.iloc[list_duplicates(file_names_list)]"
   ]
  },
  {
   "cell_type": "code",
   "execution_count": 37,
   "metadata": {},
   "outputs": [],
   "source": [
    "dup_ein = pd.DataFrame(dup_df['EIN'])"
   ]
  },
  {
   "cell_type": "code",
   "execution_count": 38,
   "metadata": {},
   "outputs": [
    {
     "data": {
      "text/html": [
       "<div>\n",
       "<style scoped>\n",
       "    .dataframe tbody tr th:only-of-type {\n",
       "        vertical-align: middle;\n",
       "    }\n",
       "\n",
       "    .dataframe tbody tr th {\n",
       "        vertical-align: top;\n",
       "    }\n",
       "\n",
       "    .dataframe thead th {\n",
       "        text-align: right;\n",
       "    }\n",
       "</style>\n",
       "<table border=\"1\" class=\"dataframe\">\n",
       "  <thead>\n",
       "    <tr style=\"text-align: right;\">\n",
       "      <th></th>\n",
       "      <th>EIN</th>\n",
       "    </tr>\n",
       "  </thead>\n",
       "  <tbody>\n",
       "    <tr>\n",
       "      <td>85406</td>\n",
       "      <td>411742282</td>\n",
       "    </tr>\n",
       "    <tr>\n",
       "      <td>85408</td>\n",
       "      <td>060870134</td>\n",
       "    </tr>\n",
       "    <tr>\n",
       "      <td>85410</td>\n",
       "      <td>931069099</td>\n",
       "    </tr>\n",
       "    <tr>\n",
       "      <td>85412</td>\n",
       "      <td>912046528</td>\n",
       "    </tr>\n",
       "    <tr>\n",
       "      <td>85414</td>\n",
       "      <td>953447952</td>\n",
       "    </tr>\n",
       "    <tr>\n",
       "      <td>85998</td>\n",
       "      <td>362924251</td>\n",
       "    </tr>\n",
       "    <tr>\n",
       "      <td>86689</td>\n",
       "      <td>330592140</td>\n",
       "    </tr>\n",
       "    <tr>\n",
       "      <td>86690</td>\n",
       "      <td>951688546</td>\n",
       "    </tr>\n",
       "    <tr>\n",
       "      <td>86691</td>\n",
       "      <td>270987719</td>\n",
       "    </tr>\n",
       "    <tr>\n",
       "      <td>86692</td>\n",
       "      <td>136108649</td>\n",
       "    </tr>\n",
       "    <tr>\n",
       "      <td>86693</td>\n",
       "      <td>731268844</td>\n",
       "    </tr>\n",
       "    <tr>\n",
       "      <td>86694</td>\n",
       "      <td>237306397</td>\n",
       "    </tr>\n",
       "    <tr>\n",
       "      <td>86695</td>\n",
       "      <td>510609572</td>\n",
       "    </tr>\n",
       "    <tr>\n",
       "      <td>86696</td>\n",
       "      <td>592170012</td>\n",
       "    </tr>\n",
       "    <tr>\n",
       "      <td>86697</td>\n",
       "      <td>911871945</td>\n",
       "    </tr>\n",
       "    <tr>\n",
       "      <td>86698</td>\n",
       "      <td>261590898</td>\n",
       "    </tr>\n",
       "    <tr>\n",
       "      <td>86700</td>\n",
       "      <td>141364536</td>\n",
       "    </tr>\n",
       "    <tr>\n",
       "      <td>86701</td>\n",
       "      <td>752473636</td>\n",
       "    </tr>\n",
       "    <tr>\n",
       "      <td>86702</td>\n",
       "      <td>710936185</td>\n",
       "    </tr>\n",
       "    <tr>\n",
       "      <td>86703</td>\n",
       "      <td>736103140</td>\n",
       "    </tr>\n",
       "    <tr>\n",
       "      <td>86704</td>\n",
       "      <td>310960543</td>\n",
       "    </tr>\n",
       "    <tr>\n",
       "      <td>86705</td>\n",
       "      <td>912129703</td>\n",
       "    </tr>\n",
       "    <tr>\n",
       "      <td>86706</td>\n",
       "      <td>850270709</td>\n",
       "    </tr>\n",
       "    <tr>\n",
       "      <td>86707</td>\n",
       "      <td>474457105</td>\n",
       "    </tr>\n",
       "    <tr>\n",
       "      <td>86708</td>\n",
       "      <td>951543396</td>\n",
       "    </tr>\n",
       "    <tr>\n",
       "      <td>86709</td>\n",
       "      <td>431918057</td>\n",
       "    </tr>\n",
       "    <tr>\n",
       "      <td>86710</td>\n",
       "      <td>237054730</td>\n",
       "    </tr>\n",
       "    <tr>\n",
       "      <td>89282</td>\n",
       "      <td>274541012</td>\n",
       "    </tr>\n",
       "    <tr>\n",
       "      <td>89283</td>\n",
       "      <td>061014706</td>\n",
       "    </tr>\n",
       "    <tr>\n",
       "      <td>91562</td>\n",
       "      <td>136090722</td>\n",
       "    </tr>\n",
       "  </tbody>\n",
       "</table>\n",
       "</div>"
      ],
      "text/plain": [
       "             EIN\n",
       "85406  411742282\n",
       "85408  060870134\n",
       "85410  931069099\n",
       "85412  912046528\n",
       "85414  953447952\n",
       "85998  362924251\n",
       "86689  330592140\n",
       "86690  951688546\n",
       "86691  270987719\n",
       "86692  136108649\n",
       "86693  731268844\n",
       "86694  237306397\n",
       "86695  510609572\n",
       "86696  592170012\n",
       "86697  911871945\n",
       "86698  261590898\n",
       "86700  141364536\n",
       "86701  752473636\n",
       "86702  710936185\n",
       "86703  736103140\n",
       "86704  310960543\n",
       "86705  912129703\n",
       "86706  850270709\n",
       "86707  474457105\n",
       "86708  951543396\n",
       "86709  431918057\n",
       "86710  237054730\n",
       "89282  274541012\n",
       "89283  061014706\n",
       "91562  136090722"
      ]
     },
     "execution_count": 38,
     "metadata": {},
     "output_type": "execute_result"
    }
   ],
   "source": [
    "dup_ein"
   ]
  },
  {
   "cell_type": "code",
   "execution_count": 39,
   "metadata": {},
   "outputs": [],
   "source": [
    "duplicates = pd.DataFrame([])\n",
    "\n",
    "for dup in range(dup_ein.shape[0]):\n",
    "    ein = dup_ein.iloc[dup]['EIN']\n",
    "    duplicates = duplicates.append(df[df['EIN'] == ein])"
   ]
  },
  {
   "cell_type": "code",
   "execution_count": 40,
   "metadata": {},
   "outputs": [
    {
     "data": {
      "text/html": [
       "<div>\n",
       "<style scoped>\n",
       "    .dataframe tbody tr th:only-of-type {\n",
       "        vertical-align: middle;\n",
       "    }\n",
       "\n",
       "    .dataframe tbody tr th {\n",
       "        vertical-align: top;\n",
       "    }\n",
       "\n",
       "    .dataframe thead th {\n",
       "        text-align: right;\n",
       "    }\n",
       "</style>\n",
       "<table border=\"1\" class=\"dataframe\">\n",
       "  <thead>\n",
       "    <tr style=\"text-align: right;\">\n",
       "      <th></th>\n",
       "      <th>EIN</th>\n",
       "      <th>TaxPeriod</th>\n",
       "      <th>DLN</th>\n",
       "      <th>FormType</th>\n",
       "      <th>URL</th>\n",
       "      <th>OrganizationName</th>\n",
       "      <th>SubmittedOn</th>\n",
       "      <th>ObjectId</th>\n",
       "      <th>LastUpdated</th>\n",
       "    </tr>\n",
       "  </thead>\n",
       "  <tbody>\n",
       "    <tr>\n",
       "      <td>39535</td>\n",
       "      <td>411742282</td>\n",
       "      <td>201712</td>\n",
       "      <td>93493318122468</td>\n",
       "      <td>990</td>\n",
       "      <td>https://s3.amazonaws.com/irs-form-990/20181318...</td>\n",
       "      <td>CHILDRENS MENTAL HEALTH SERVICES REACH INC</td>\n",
       "      <td>2019-02-06</td>\n",
       "      <td>201813189349312246</td>\n",
       "      <td>2019-04-15T18:19:53</td>\n",
       "    </tr>\n",
       "    <tr>\n",
       "      <td>85406</td>\n",
       "      <td>411742282</td>\n",
       "      <td>201712</td>\n",
       "      <td>93493318122468</td>\n",
       "      <td>990</td>\n",
       "      <td>https://s3.amazonaws.com/irs-form-990/20181318...</td>\n",
       "      <td>CHILDRENS MENTAL HEALTH SERVICES REACH INC</td>\n",
       "      <td>2019-03-26</td>\n",
       "      <td>201813189349312246</td>\n",
       "      <td>2019-04-15T18:19:53</td>\n",
       "    </tr>\n",
       "    <tr>\n",
       "      <td>39530</td>\n",
       "      <td>060870134</td>\n",
       "      <td>201806</td>\n",
       "      <td>93493318122618</td>\n",
       "      <td>990</td>\n",
       "      <td>https://s3.amazonaws.com/irs-form-990/20181318...</td>\n",
       "      <td>NEW HAVEN JEWISH COMMUNITY COUNCIL HOUSING COR...</td>\n",
       "      <td>2019-02-06</td>\n",
       "      <td>201813189349312261</td>\n",
       "      <td>2019-04-15T18:19:53</td>\n",
       "    </tr>\n",
       "    <tr>\n",
       "      <td>85408</td>\n",
       "      <td>060870134</td>\n",
       "      <td>201806</td>\n",
       "      <td>93493318122618</td>\n",
       "      <td>990</td>\n",
       "      <td>https://s3.amazonaws.com/irs-form-990/20181318...</td>\n",
       "      <td>NEW HAVEN JEWISH COMMUNITY COUNCIL HOUSING COR...</td>\n",
       "      <td>2019-03-26</td>\n",
       "      <td>201813189349312261</td>\n",
       "      <td>2019-04-15T18:19:53</td>\n",
       "    </tr>\n",
       "    <tr>\n",
       "      <td>39543</td>\n",
       "      <td>931069099</td>\n",
       "      <td>201712</td>\n",
       "      <td>93493318122768</td>\n",
       "      <td>990</td>\n",
       "      <td>https://s3.amazonaws.com/irs-form-990/20181318...</td>\n",
       "      <td>BROADWAY ROSE THEATRE CO</td>\n",
       "      <td>2019-02-06</td>\n",
       "      <td>201813189349312276</td>\n",
       "      <td>2019-04-15T18:19:53</td>\n",
       "    </tr>\n",
       "    <tr>\n",
       "      <td>...</td>\n",
       "      <td>...</td>\n",
       "      <td>...</td>\n",
       "      <td>...</td>\n",
       "      <td>...</td>\n",
       "      <td>...</td>\n",
       "      <td>...</td>\n",
       "      <td>...</td>\n",
       "      <td>...</td>\n",
       "      <td>...</td>\n",
       "    </tr>\n",
       "    <tr>\n",
       "      <td>89282</td>\n",
       "      <td>274541012</td>\n",
       "      <td>201712</td>\n",
       "      <td>93493318122818</td>\n",
       "      <td>990</td>\n",
       "      <td>https://s3.amazonaws.com/irs-form-990/20181318...</td>\n",
       "      <td>SOCIAL GOOD LABS INCORPORATED</td>\n",
       "      <td>2019-03-26</td>\n",
       "      <td>201813189349312281</td>\n",
       "      <td>2019-04-15T18:19:53</td>\n",
       "    </tr>\n",
       "    <tr>\n",
       "      <td>85409</td>\n",
       "      <td>061014706</td>\n",
       "      <td>201806</td>\n",
       "      <td>93493318122668</td>\n",
       "      <td>990</td>\n",
       "      <td>https://s3.amazonaws.com/irs-form-990/20181318...</td>\n",
       "      <td>RIDGEFIELD WORKSHOP FOR THE PEFORMING ARTS INC</td>\n",
       "      <td>2019-02-06</td>\n",
       "      <td>201813189349312266</td>\n",
       "      <td>2019-04-15T18:19:53</td>\n",
       "    </tr>\n",
       "    <tr>\n",
       "      <td>89283</td>\n",
       "      <td>061014706</td>\n",
       "      <td>201806</td>\n",
       "      <td>93493318122668</td>\n",
       "      <td>990</td>\n",
       "      <td>https://s3.amazonaws.com/irs-form-990/20181318...</td>\n",
       "      <td>RIDGEFIELD WORKSHOP FOR THE PEFORMING ARTS INC</td>\n",
       "      <td>2019-03-26</td>\n",
       "      <td>201813189349312266</td>\n",
       "      <td>2019-04-15T18:19:53</td>\n",
       "    </tr>\n",
       "    <tr>\n",
       "      <td>86699</td>\n",
       "      <td>136090722</td>\n",
       "      <td>201712</td>\n",
       "      <td>93493318122568</td>\n",
       "      <td>990</td>\n",
       "      <td>https://s3.amazonaws.com/irs-form-990/20181318...</td>\n",
       "      <td>NEW YORK PATHOLOGICAL SOCIETY</td>\n",
       "      <td>2019-03-26</td>\n",
       "      <td>201813189349312256</td>\n",
       "      <td>2019-04-15T18:19:53</td>\n",
       "    </tr>\n",
       "    <tr>\n",
       "      <td>91562</td>\n",
       "      <td>136090722</td>\n",
       "      <td>201712</td>\n",
       "      <td>93493318122568</td>\n",
       "      <td>990</td>\n",
       "      <td>https://s3.amazonaws.com/irs-form-990/20181318...</td>\n",
       "      <td>NEW YORK PATHOLOGICAL SOCIETY</td>\n",
       "      <td>2019-02-06</td>\n",
       "      <td>201813189349312256</td>\n",
       "      <td>2019-04-15T18:19:53</td>\n",
       "    </tr>\n",
       "  </tbody>\n",
       "</table>\n",
       "<p>67 rows × 9 columns</p>\n",
       "</div>"
      ],
      "text/plain": [
       "             EIN TaxPeriod             DLN FormType  \\\n",
       "39535  411742282    201712  93493318122468      990   \n",
       "85406  411742282    201712  93493318122468      990   \n",
       "39530  060870134    201806  93493318122618      990   \n",
       "85408  060870134    201806  93493318122618      990   \n",
       "39543  931069099    201712  93493318122768      990   \n",
       "...          ...       ...             ...      ...   \n",
       "89282  274541012    201712  93493318122818      990   \n",
       "85409  061014706    201806  93493318122668      990   \n",
       "89283  061014706    201806  93493318122668      990   \n",
       "86699  136090722    201712  93493318122568      990   \n",
       "91562  136090722    201712  93493318122568      990   \n",
       "\n",
       "                                                     URL  \\\n",
       "39535  https://s3.amazonaws.com/irs-form-990/20181318...   \n",
       "85406  https://s3.amazonaws.com/irs-form-990/20181318...   \n",
       "39530  https://s3.amazonaws.com/irs-form-990/20181318...   \n",
       "85408  https://s3.amazonaws.com/irs-form-990/20181318...   \n",
       "39543  https://s3.amazonaws.com/irs-form-990/20181318...   \n",
       "...                                                  ...   \n",
       "89282  https://s3.amazonaws.com/irs-form-990/20181318...   \n",
       "85409  https://s3.amazonaws.com/irs-form-990/20181318...   \n",
       "89283  https://s3.amazonaws.com/irs-form-990/20181318...   \n",
       "86699  https://s3.amazonaws.com/irs-form-990/20181318...   \n",
       "91562  https://s3.amazonaws.com/irs-form-990/20181318...   \n",
       "\n",
       "                                        OrganizationName SubmittedOn  \\\n",
       "39535         CHILDRENS MENTAL HEALTH SERVICES REACH INC  2019-02-06   \n",
       "85406         CHILDRENS MENTAL HEALTH SERVICES REACH INC  2019-03-26   \n",
       "39530  NEW HAVEN JEWISH COMMUNITY COUNCIL HOUSING COR...  2019-02-06   \n",
       "85408  NEW HAVEN JEWISH COMMUNITY COUNCIL HOUSING COR...  2019-03-26   \n",
       "39543                           BROADWAY ROSE THEATRE CO  2019-02-06   \n",
       "...                                                  ...         ...   \n",
       "89282                      SOCIAL GOOD LABS INCORPORATED  2019-03-26   \n",
       "85409     RIDGEFIELD WORKSHOP FOR THE PEFORMING ARTS INC  2019-02-06   \n",
       "89283     RIDGEFIELD WORKSHOP FOR THE PEFORMING ARTS INC  2019-03-26   \n",
       "86699                      NEW YORK PATHOLOGICAL SOCIETY  2019-03-26   \n",
       "91562                      NEW YORK PATHOLOGICAL SOCIETY  2019-02-06   \n",
       "\n",
       "                 ObjectId          LastUpdated  \n",
       "39535  201813189349312246  2019-04-15T18:19:53  \n",
       "85406  201813189349312246  2019-04-15T18:19:53  \n",
       "39530  201813189349312261  2019-04-15T18:19:53  \n",
       "85408  201813189349312261  2019-04-15T18:19:53  \n",
       "39543  201813189349312276  2019-04-15T18:19:53  \n",
       "...                   ...                  ...  \n",
       "89282  201813189349312281  2019-04-15T18:19:53  \n",
       "85409  201813189349312266  2019-04-15T18:19:53  \n",
       "89283  201813189349312266  2019-04-15T18:19:53  \n",
       "86699  201813189349312256  2019-04-15T18:19:53  \n",
       "91562  201813189349312256  2019-04-15T18:19:53  \n",
       "\n",
       "[67 rows x 9 columns]"
      ]
     },
     "execution_count": 40,
     "metadata": {},
     "output_type": "execute_result"
    }
   ],
   "source": [
    "duplicates"
   ]
  },
  {
   "cell_type": "code",
   "execution_count": 43,
   "metadata": {},
   "outputs": [
    {
     "data": {
      "text/plain": [
       "'https://s3.amazonaws.com/irs-form-990/201813189349312246_public.xml'"
      ]
     },
     "execution_count": 43,
     "metadata": {},
     "output_type": "execute_result"
    }
   ],
   "source": [
    "duplicates['URL'].iloc[0]"
   ]
  },
  {
   "cell_type": "code",
   "execution_count": 44,
   "metadata": {},
   "outputs": [
    {
     "data": {
      "text/plain": [
       "'https://s3.amazonaws.com/irs-form-990/201813189349312246_public.xml'"
      ]
     },
     "execution_count": 44,
     "metadata": {},
     "output_type": "execute_result"
    }
   ],
   "source": [
    "duplicates['URL'].iloc[1]"
   ]
  },
  {
   "cell_type": "code",
   "execution_count": null,
   "metadata": {},
   "outputs": [],
   "source": []
  }
 ],
 "metadata": {
  "kernelspec": {
   "display_name": "Python 3",
   "language": "python",
   "name": "python3"
  },
  "language_info": {
   "codemirror_mode": {
    "name": "ipython",
    "version": 3
   },
   "file_extension": ".py",
   "mimetype": "text/x-python",
   "name": "python",
   "nbconvert_exporter": "python",
   "pygments_lexer": "ipython3",
   "version": "3.6.9"
  }
 },
 "nbformat": 4,
 "nbformat_minor": 2
}
