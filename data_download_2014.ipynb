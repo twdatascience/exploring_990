{
 "cells": [
  {
   "cell_type": "code",
   "execution_count": 1,
   "metadata": {},
   "outputs": [],
   "source": [
    "import numpy as np\n",
    "import pandas as pd\n",
    "import requests\n",
    "import re\n",
    "import json\n",
    "from os import walk\n",
    "from multiprocessing.pool import ThreadPool"
   ]
  },
  {
   "cell_type": "code",
   "execution_count": 2,
   "metadata": {},
   "outputs": [],
   "source": [
    "URL = \"https://s3.amazonaws.com/irs-form-990/index_2014.json\"\n",
    "\n",
    "response = requests.get(URL)\n",
    "with open(\"index_2014.json\", 'wb') as f:\n",
    "    f.write(response.content)"
   ]
  },
  {
   "cell_type": "code",
   "execution_count": 3,
   "metadata": {},
   "outputs": [],
   "source": [
    "with open(\"index_2014.json\") as f:\n",
    "    data = json.load(f)\n",
    "    data = data[list(data.keys())[0]]"
   ]
  },
  {
   "cell_type": "code",
   "execution_count": 4,
   "metadata": {
    "scrolled": true
   },
   "outputs": [
    {
     "data": {
      "text/html": [
       "<div>\n",
       "<style scoped>\n",
       "    .dataframe tbody tr th:only-of-type {\n",
       "        vertical-align: middle;\n",
       "    }\n",
       "\n",
       "    .dataframe tbody tr th {\n",
       "        vertical-align: top;\n",
       "    }\n",
       "\n",
       "    .dataframe thead th {\n",
       "        text-align: right;\n",
       "    }\n",
       "</style>\n",
       "<table border=\"1\" class=\"dataframe\">\n",
       "  <thead>\n",
       "    <tr style=\"text-align: right;\">\n",
       "      <th></th>\n",
       "      <th>EIN</th>\n",
       "      <th>TaxPeriod</th>\n",
       "      <th>DLN</th>\n",
       "      <th>FormType</th>\n",
       "      <th>URL</th>\n",
       "      <th>OrganizationName</th>\n",
       "      <th>SubmittedOn</th>\n",
       "      <th>ObjectId</th>\n",
       "      <th>LastUpdated</th>\n",
       "    </tr>\n",
       "  </thead>\n",
       "  <tbody>\n",
       "    <tr>\n",
       "      <td>0</td>\n",
       "      <td>760740805</td>\n",
       "      <td>201406</td>\n",
       "      <td>93492311012114</td>\n",
       "      <td>990EZ</td>\n",
       "      <td>https://s3.amazonaws.com/irs-form-990/20141311...</td>\n",
       "      <td>ROYAL HIGH BAND BOOSTERS</td>\n",
       "      <td>2014-12-08</td>\n",
       "      <td>201413119349201211</td>\n",
       "      <td>2016-03-21T17:23:53</td>\n",
       "    </tr>\n",
       "    <tr>\n",
       "      <td>1</td>\n",
       "      <td>996001533</td>\n",
       "      <td>201406</td>\n",
       "      <td>93492311012164</td>\n",
       "      <td>990EZ</td>\n",
       "      <td>https://s3.amazonaws.com/irs-form-990/20141311...</td>\n",
       "      <td>GARDEN CLUB OF HONOLULU</td>\n",
       "      <td>2014-12-08</td>\n",
       "      <td>201413119349201216</td>\n",
       "      <td>2016-03-21T17:23:53</td>\n",
       "    </tr>\n",
       "    <tr>\n",
       "      <td>2</td>\n",
       "      <td>510172432</td>\n",
       "      <td>201406</td>\n",
       "      <td>93492311012214</td>\n",
       "      <td>990EZ</td>\n",
       "      <td>https://s3.amazonaws.com/irs-form-990/20141311...</td>\n",
       "      <td>YANKTON AREA ARTS ASSOCIATION</td>\n",
       "      <td>2014-12-08</td>\n",
       "      <td>201413119349201221</td>\n",
       "      <td>2016-03-21T17:23:53</td>\n",
       "    </tr>\n",
       "    <tr>\n",
       "      <td>3</td>\n",
       "      <td>510650214</td>\n",
       "      <td>201406</td>\n",
       "      <td>93492311012664</td>\n",
       "      <td>990EZ</td>\n",
       "      <td>https://s3.amazonaws.com/irs-form-990/20141311...</td>\n",
       "      <td>ERICA ESSNER PERFORMANCE INC</td>\n",
       "      <td>2014-12-08</td>\n",
       "      <td>201413119349201266</td>\n",
       "      <td>2016-03-21T17:23:53</td>\n",
       "    </tr>\n",
       "    <tr>\n",
       "      <td>4</td>\n",
       "      <td>042604398</td>\n",
       "      <td>201312</td>\n",
       "      <td>93492311013014</td>\n",
       "      <td>990EZ</td>\n",
       "      <td>https://s3.amazonaws.com/irs-form-990/20141311...</td>\n",
       "      <td>LEDYARD FARM EQUINE EDUCATION FOUNDATION INC</td>\n",
       "      <td>2014-12-08</td>\n",
       "      <td>201413119349201301</td>\n",
       "      <td>2016-03-21T17:23:53</td>\n",
       "    </tr>\n",
       "  </tbody>\n",
       "</table>\n",
       "</div>"
      ],
      "text/plain": [
       "         EIN TaxPeriod             DLN FormType  \\\n",
       "0  760740805    201406  93492311012114    990EZ   \n",
       "1  996001533    201406  93492311012164    990EZ   \n",
       "2  510172432    201406  93492311012214    990EZ   \n",
       "3  510650214    201406  93492311012664    990EZ   \n",
       "4  042604398    201312  93492311013014    990EZ   \n",
       "\n",
       "                                                 URL  \\\n",
       "0  https://s3.amazonaws.com/irs-form-990/20141311...   \n",
       "1  https://s3.amazonaws.com/irs-form-990/20141311...   \n",
       "2  https://s3.amazonaws.com/irs-form-990/20141311...   \n",
       "3  https://s3.amazonaws.com/irs-form-990/20141311...   \n",
       "4  https://s3.amazonaws.com/irs-form-990/20141311...   \n",
       "\n",
       "                               OrganizationName SubmittedOn  \\\n",
       "0                      ROYAL HIGH BAND BOOSTERS  2014-12-08   \n",
       "1                       GARDEN CLUB OF HONOLULU  2014-12-08   \n",
       "2                 YANKTON AREA ARTS ASSOCIATION  2014-12-08   \n",
       "3                  ERICA ESSNER PERFORMANCE INC  2014-12-08   \n",
       "4  LEDYARD FARM EQUINE EDUCATION FOUNDATION INC  2014-12-08   \n",
       "\n",
       "             ObjectId          LastUpdated  \n",
       "0  201413119349201211  2016-03-21T17:23:53  \n",
       "1  201413119349201216  2016-03-21T17:23:53  \n",
       "2  201413119349201221  2016-03-21T17:23:53  \n",
       "3  201413119349201266  2016-03-21T17:23:53  \n",
       "4  201413119349201301  2016-03-21T17:23:53  "
      ]
     },
     "execution_count": 4,
     "metadata": {},
     "output_type": "execute_result"
    }
   ],
   "source": [
    "df = pd.DataFrame.from_dict(data)\n",
    "df.head(5)"
   ]
  },
  {
   "cell_type": "code",
   "execution_count": 5,
   "metadata": {},
   "outputs": [
    {
     "data": {
      "text/plain": [
       "(387529, 9)"
      ]
     },
     "execution_count": 5,
     "metadata": {},
     "output_type": "execute_result"
    }
   ],
   "source": [
    "df.shape"
   ]
  },
  {
   "cell_type": "code",
   "execution_count": 6,
   "metadata": {},
   "outputs": [],
   "source": [
    "def download_url(url):\n",
    "    file_name_start = url.rfind('/') + 1\n",
    "    file_name = url[file_name_start:]\n",
    "    output_dir = \"/home/meso/git_repo/exploring_990/data_2014/\"\n",
    "    file_name = output_dir + file_name\n",
    "    \n",
    "    r = requests.get(url, stream=True)\n",
    "    if r.status_code == requests.codes.ok:\n",
    "        with open(file_name, 'wb') as f:\n",
    "            f.write(r.content)\n",
    "    return url\n",
    "\n",
    "urls = []\n",
    "for i in range(df.shape[0]): \n",
    "    urls.append(data[i]['URL'])\n",
    "    \n",
    "results = ThreadPool(100).imap_unordered(download_url, urls)"
   ]
  },
  {
   "cell_type": "code",
   "execution_count": 7,
   "metadata": {},
   "outputs": [],
   "source": [
    "f = []\n",
    "for (dirpath, dirnames, filenames) in walk('/home/meso/git_repo/exploring_990/data_2014/'):\n",
    "    f.extend(filenames)\n",
    "    break"
   ]
  },
  {
   "cell_type": "code",
   "execution_count": 8,
   "metadata": {},
   "outputs": [
    {
     "data": {
      "text/plain": [
       "387529"
      ]
     },
     "execution_count": 8,
     "metadata": {},
     "output_type": "execute_result"
    }
   ],
   "source": [
    "u = list(df['URL'])\n",
    "len(u)"
   ]
  },
  {
   "cell_type": "code",
   "execution_count": 9,
   "metadata": {},
   "outputs": [],
   "source": [
    "file_names_list = []\n",
    "\n",
    "for i in range(len(u)):\n",
    "    file_loc = u[i].rfind(\"/\") + 1\n",
    "    file_name = u[i][file_loc:]\n",
    "    file_names_list.append(file_name)"
   ]
  },
  {
   "cell_type": "code",
   "execution_count": 10,
   "metadata": {},
   "outputs": [
    {
     "name": "stdout",
     "output_type": "stream",
     "text": [
      "387529 : 387482\n"
     ]
    }
   ],
   "source": [
    "print(len(file_names_list), str(\":\"), len(f))"
   ]
  },
  {
   "cell_type": "code",
   "execution_count": 11,
   "metadata": {},
   "outputs": [
    {
     "data": {
      "text/plain": [
       "44"
      ]
     },
     "execution_count": 11,
     "metadata": {},
     "output_type": "execute_result"
    }
   ],
   "source": [
    "diff = list(set(file_names_list) - set(f))\n",
    "len(diff)"
   ]
  },
  {
   "cell_type": "code",
   "execution_count": 12,
   "metadata": {},
   "outputs": [],
   "source": [
    "file_loc = u[i].rfind(\"/\") + 1\n",
    "url_pre = u[0][:file_loc]"
   ]
  },
  {
   "cell_type": "code",
   "execution_count": 13,
   "metadata": {},
   "outputs": [],
   "source": [
    "urls = []\n",
    "for i in range(len(diff)):\n",
    "    url = url_pre + diff[i]\n",
    "    urls.append(url)"
   ]
  },
  {
   "cell_type": "code",
   "execution_count": 14,
   "metadata": {},
   "outputs": [],
   "source": [
    "for url in urls:\n",
    "    download_url(url)"
   ]
  },
  {
   "cell_type": "code",
   "execution_count": 17,
   "metadata": {},
   "outputs": [],
   "source": [
    "f = []\n",
    "for (dirpath, dirnames, filenames) in walk('/home/meso/git_repo/exploring_990/data_2014/'):\n",
    "    f.extend(filenames)\n",
    "    break"
   ]
  },
  {
   "cell_type": "code",
   "execution_count": 18,
   "metadata": {},
   "outputs": [
    {
     "data": {
      "text/plain": [
       "387526"
      ]
     },
     "execution_count": 18,
     "metadata": {},
     "output_type": "execute_result"
    }
   ],
   "source": [
    "len(f)"
   ]
  },
  {
   "cell_type": "code",
   "execution_count": 20,
   "metadata": {},
   "outputs": [
    {
     "data": {
      "text/plain": [
       "0"
      ]
     },
     "execution_count": 20,
     "metadata": {},
     "output_type": "execute_result"
    }
   ],
   "source": [
    "diff = list(set(file_names_list) - set(f))\n",
    "len(diff)"
   ]
  },
  {
   "cell_type": "code",
   "execution_count": 21,
   "metadata": {},
   "outputs": [],
   "source": [
    "def list_duplicates(seq):\n",
    "    seen = set()\n",
    "    seen_add = seen.add\n",
    "    return [idx for idx, item in enumerate(seq) if item in seen or seen_add(item)]"
   ]
  },
  {
   "cell_type": "code",
   "execution_count": 23,
   "metadata": {},
   "outputs": [
    {
     "name": "stdout",
     "output_type": "stream",
     "text": [
      "[143787, 145192, 385216]\n"
     ]
    }
   ],
   "source": [
    "print(list_duplicates(file_names_list))"
   ]
  },
  {
   "cell_type": "code",
   "execution_count": null,
   "metadata": {},
   "outputs": [],
   "source": [
    "dup_df = df.iloc[list_duplicates(file_names_list)]"
   ]
  },
  {
   "cell_type": "code",
   "execution_count": null,
   "metadata": {},
   "outputs": [],
   "source": [
    "dup_ein = pd.DataFrame(dup_df['EIN'])"
   ]
  },
  {
   "cell_type": "code",
   "execution_count": null,
   "metadata": {},
   "outputs": [],
   "source": [
    "dup_ein"
   ]
  },
  {
   "cell_type": "code",
   "execution_count": 25,
   "metadata": {},
   "outputs": [],
   "source": [
    "duplicates = pd.DataFrame([])\n",
    "\n",
    "for dup in range(dup_ein.shape[0]):\n",
    "    ein = dup_ein.iloc[dup]['EIN']\n",
    "    duplicates = duplicates.append(df[df['EIN'] == ein])"
   ]
  },
  {
   "cell_type": "code",
   "execution_count": 26,
   "metadata": {},
   "outputs": [
    {
     "data": {
      "text/html": [
       "<div>\n",
       "<style scoped>\n",
       "    .dataframe tbody tr th:only-of-type {\n",
       "        vertical-align: middle;\n",
       "    }\n",
       "\n",
       "    .dataframe tbody tr th {\n",
       "        vertical-align: top;\n",
       "    }\n",
       "\n",
       "    .dataframe thead th {\n",
       "        text-align: right;\n",
       "    }\n",
       "</style>\n",
       "<table border=\"1\" class=\"dataframe\">\n",
       "  <thead>\n",
       "    <tr style=\"text-align: right;\">\n",
       "      <th></th>\n",
       "      <th>EIN</th>\n",
       "      <th>TaxPeriod</th>\n",
       "      <th>DLN</th>\n",
       "      <th>FormType</th>\n",
       "      <th>URL</th>\n",
       "      <th>OrganizationName</th>\n",
       "      <th>SubmittedOn</th>\n",
       "      <th>ObjectId</th>\n",
       "      <th>LastUpdated</th>\n",
       "    </tr>\n",
       "  </thead>\n",
       "  <tbody>\n",
       "    <tr>\n",
       "      <td>136047</td>\n",
       "      <td>981072782</td>\n",
       "      <td>201312</td>\n",
       "      <td>93492134026824</td>\n",
       "      <td>990EZ</td>\n",
       "      <td>https://s3.amazonaws.com/irs-form-990/20142134...</td>\n",
       "      <td>COUNCIL FOR RESPONSIBLE NUTRITION INTERNATIONAL</td>\n",
       "      <td>2014-09-29</td>\n",
       "      <td>201421349349202682</td>\n",
       "      <td>2016-03-21T17:23:53</td>\n",
       "    </tr>\n",
       "    <tr>\n",
       "      <td>143787</td>\n",
       "      <td>981072782</td>\n",
       "      <td>201312</td>\n",
       "      <td>93492134026824</td>\n",
       "      <td>990EZ</td>\n",
       "      <td>https://s3.amazonaws.com/irs-form-990/20142134...</td>\n",
       "      <td>COUNCIL FOR RESPONSIBLE NUTRITION INTERNATIONAL</td>\n",
       "      <td>2014-10-03</td>\n",
       "      <td>201421349349202682</td>\n",
       "      <td>2016-03-21T17:23:53</td>\n",
       "    </tr>\n",
       "    <tr>\n",
       "      <td>138615</td>\n",
       "      <td>980413360</td>\n",
       "      <td>201309</td>\n",
       "      <td>93493227033774</td>\n",
       "      <td>990</td>\n",
       "      <td>https://s3.amazonaws.com/irs-form-990/20142227...</td>\n",
       "      <td>WEIZMANN INSTITUTE OF SCIENCE</td>\n",
       "      <td>2014-09-30</td>\n",
       "      <td>201422279349303377</td>\n",
       "      <td>2016-03-21T17:23:53</td>\n",
       "    </tr>\n",
       "    <tr>\n",
       "      <td>145192</td>\n",
       "      <td>980413360</td>\n",
       "      <td>201309</td>\n",
       "      <td>93493227033774</td>\n",
       "      <td>990</td>\n",
       "      <td>https://s3.amazonaws.com/irs-form-990/20142227...</td>\n",
       "      <td>WEIZMANN INSTITUTE OF SCIENCE</td>\n",
       "      <td>2014-10-08</td>\n",
       "      <td>201422279349303377</td>\n",
       "      <td>2016-03-21T17:23:53</td>\n",
       "    </tr>\n",
       "    <tr>\n",
       "      <td>357553</td>\n",
       "      <td>660227304</td>\n",
       "      <td>201312</td>\n",
       "      <td>93493227042464</td>\n",
       "      <td>990</td>\n",
       "      <td>https://s3.amazonaws.com/irs-form-990/20141227...</td>\n",
       "      <td>HOSPITAL DE LA CONCEPCION INC</td>\n",
       "      <td>2014-09-30</td>\n",
       "      <td>201412279349304246</td>\n",
       "      <td>2016-03-21T17:23:53</td>\n",
       "    </tr>\n",
       "    <tr>\n",
       "      <td>385216</td>\n",
       "      <td>660227304</td>\n",
       "      <td>201312</td>\n",
       "      <td>93493227042464</td>\n",
       "      <td>990</td>\n",
       "      <td>https://s3.amazonaws.com/irs-form-990/20141227...</td>\n",
       "      <td>HOSPITAL DE LA CONCEPCION INC</td>\n",
       "      <td>2014-10-08</td>\n",
       "      <td>201412279349304246</td>\n",
       "      <td>2016-03-21T17:23:53</td>\n",
       "    </tr>\n",
       "  </tbody>\n",
       "</table>\n",
       "</div>"
      ],
      "text/plain": [
       "              EIN TaxPeriod             DLN FormType  \\\n",
       "136047  981072782    201312  93492134026824    990EZ   \n",
       "143787  981072782    201312  93492134026824    990EZ   \n",
       "138615  980413360    201309  93493227033774      990   \n",
       "145192  980413360    201309  93493227033774      990   \n",
       "357553  660227304    201312  93493227042464      990   \n",
       "385216  660227304    201312  93493227042464      990   \n",
       "\n",
       "                                                      URL  \\\n",
       "136047  https://s3.amazonaws.com/irs-form-990/20142134...   \n",
       "143787  https://s3.amazonaws.com/irs-form-990/20142134...   \n",
       "138615  https://s3.amazonaws.com/irs-form-990/20142227...   \n",
       "145192  https://s3.amazonaws.com/irs-form-990/20142227...   \n",
       "357553  https://s3.amazonaws.com/irs-form-990/20141227...   \n",
       "385216  https://s3.amazonaws.com/irs-form-990/20141227...   \n",
       "\n",
       "                                       OrganizationName SubmittedOn  \\\n",
       "136047  COUNCIL FOR RESPONSIBLE NUTRITION INTERNATIONAL  2014-09-29   \n",
       "143787  COUNCIL FOR RESPONSIBLE NUTRITION INTERNATIONAL  2014-10-03   \n",
       "138615                    WEIZMANN INSTITUTE OF SCIENCE  2014-09-30   \n",
       "145192                    WEIZMANN INSTITUTE OF SCIENCE  2014-10-08   \n",
       "357553                    HOSPITAL DE LA CONCEPCION INC  2014-09-30   \n",
       "385216                    HOSPITAL DE LA CONCEPCION INC  2014-10-08   \n",
       "\n",
       "                  ObjectId          LastUpdated  \n",
       "136047  201421349349202682  2016-03-21T17:23:53  \n",
       "143787  201421349349202682  2016-03-21T17:23:53  \n",
       "138615  201422279349303377  2016-03-21T17:23:53  \n",
       "145192  201422279349303377  2016-03-21T17:23:53  \n",
       "357553  201412279349304246  2016-03-21T17:23:53  \n",
       "385216  201412279349304246  2016-03-21T17:23:53  "
      ]
     },
     "execution_count": 26,
     "metadata": {},
     "output_type": "execute_result"
    }
   ],
   "source": [
    "duplicates"
   ]
  },
  {
   "cell_type": "code",
   "execution_count": null,
   "metadata": {},
   "outputs": [],
   "source": []
  }
 ],
 "metadata": {
  "kernelspec": {
   "display_name": "Python 3",
   "language": "python",
   "name": "python3"
  },
  "language_info": {
   "codemirror_mode": {
    "name": "ipython",
    "version": 3
   },
   "file_extension": ".py",
   "mimetype": "text/x-python",
   "name": "python",
   "nbconvert_exporter": "python",
   "pygments_lexer": "ipython3",
   "version": "3.6.9"
  }
 },
 "nbformat": 4,
 "nbformat_minor": 2
}
