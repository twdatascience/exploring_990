{
 "cells": [
  {
   "cell_type": "code",
   "execution_count": 1,
   "metadata": {},
   "outputs": [],
   "source": [
    "import numpy as np\n",
    "import pandas as pd\n",
    "import requests\n",
    "import re\n",
    "import json"
   ]
  },
  {
   "cell_type": "code",
   "execution_count": 2,
   "metadata": {},
   "outputs": [],
   "source": [
    "URL = \"https://s3.amazonaws.com/irs-form-990/201113139349301301_public.xml\"\n",
    "\n",
    "response = requests.get(URL)\n",
    "with open('data.xml', 'wb') as file:\n",
    "    file.write(response.content)"
   ]
  },
  {
   "cell_type": "code",
   "execution_count": 3,
   "metadata": {},
   "outputs": [],
   "source": [
    "URL = \"https://s3.amazonaws.com/irs-form-990/index_2013.json\"\n",
    "\n",
    "response = requests.get(URL)\n",
    "with open(\"index_2013.json\", 'wb') as f:\n",
    "    f.write(response.content)"
   ]
  },
  {
   "cell_type": "code",
   "execution_count": 4,
   "metadata": {},
   "outputs": [],
   "source": [
    "with open(\"index_2013.json\") as f:\n",
    "    data = json.load(f)\n",
    "    data = data[list(data.keys())[0]]"
   ]
  },
  {
   "cell_type": "code",
   "execution_count": 5,
   "metadata": {},
   "outputs": [
    {
     "data": {
      "text/html": [
       "<div>\n",
       "<style scoped>\n",
       "    .dataframe tbody tr th:only-of-type {\n",
       "        vertical-align: middle;\n",
       "    }\n",
       "\n",
       "    .dataframe tbody tr th {\n",
       "        vertical-align: top;\n",
       "    }\n",
       "\n",
       "    .dataframe thead th {\n",
       "        text-align: right;\n",
       "    }\n",
       "</style>\n",
       "<table border=\"1\" class=\"dataframe\">\n",
       "  <thead>\n",
       "    <tr style=\"text-align: right;\">\n",
       "      <th></th>\n",
       "      <th>EIN</th>\n",
       "      <th>TaxPeriod</th>\n",
       "      <th>DLN</th>\n",
       "      <th>FormType</th>\n",
       "      <th>URL</th>\n",
       "      <th>OrganizationName</th>\n",
       "      <th>SubmittedOn</th>\n",
       "      <th>ObjectId</th>\n",
       "      <th>LastUpdated</th>\n",
       "    </tr>\n",
       "  </thead>\n",
       "  <tbody>\n",
       "    <tr>\n",
       "      <td>0</td>\n",
       "      <td>205585992</td>\n",
       "      <td>201306</td>\n",
       "      <td>93492296006093</td>\n",
       "      <td>990EZ</td>\n",
       "      <td>https://s3.amazonaws.com/irs-form-990/20134296...</td>\n",
       "      <td>PTOK BUSH ELEMENTARY INC</td>\n",
       "      <td>2013-12-04</td>\n",
       "      <td>201342969349200609</td>\n",
       "      <td>2016-03-21T17:23:53</td>\n",
       "    </tr>\n",
       "    <tr>\n",
       "      <td>1</td>\n",
       "      <td>236437027</td>\n",
       "      <td>201306</td>\n",
       "      <td>93492296007043</td>\n",
       "      <td>990EZ</td>\n",
       "      <td>https://s3.amazonaws.com/irs-form-990/20134296...</td>\n",
       "      <td>SOCIETY OF THE ARTS CO ALLENTOWN ART MUSEUM</td>\n",
       "      <td>2013-12-04</td>\n",
       "      <td>201342969349200704</td>\n",
       "      <td>2016-03-21T17:23:53</td>\n",
       "    </tr>\n",
       "    <tr>\n",
       "      <td>2</td>\n",
       "      <td>452096099</td>\n",
       "      <td>201212</td>\n",
       "      <td>93492296007093</td>\n",
       "      <td>990EZ</td>\n",
       "      <td>https://s3.amazonaws.com/irs-form-990/20134296...</td>\n",
       "      <td>GREAT FOUNDATIONS INC</td>\n",
       "      <td>2013-12-04</td>\n",
       "      <td>201342969349200709</td>\n",
       "      <td>2016-03-21T17:23:53</td>\n",
       "    </tr>\n",
       "    <tr>\n",
       "      <td>3</td>\n",
       "      <td>731664822</td>\n",
       "      <td>201212</td>\n",
       "      <td>93492310012033</td>\n",
       "      <td>990EZ</td>\n",
       "      <td>https://s3.amazonaws.com/irs-form-990/20133310...</td>\n",
       "      <td>FRIENDS OF KIDS INC</td>\n",
       "      <td>2013-12-04</td>\n",
       "      <td>201333109349201203</td>\n",
       "      <td>2016-03-21T17:23:53</td>\n",
       "    </tr>\n",
       "    <tr>\n",
       "      <td>4</td>\n",
       "      <td>200128337</td>\n",
       "      <td>201306</td>\n",
       "      <td>93492310003043</td>\n",
       "      <td>990EZ</td>\n",
       "      <td>https://s3.amazonaws.com/irs-form-990/20134310...</td>\n",
       "      <td>LAKESHORE YOUTH ATHLETIC ASSOC</td>\n",
       "      <td>2013-12-04</td>\n",
       "      <td>201343109349200304</td>\n",
       "      <td>2016-03-21T17:23:53</td>\n",
       "    </tr>\n",
       "  </tbody>\n",
       "</table>\n",
       "</div>"
      ],
      "text/plain": [
       "         EIN TaxPeriod             DLN FormType  \\\n",
       "0  205585992    201306  93492296006093    990EZ   \n",
       "1  236437027    201306  93492296007043    990EZ   \n",
       "2  452096099    201212  93492296007093    990EZ   \n",
       "3  731664822    201212  93492310012033    990EZ   \n",
       "4  200128337    201306  93492310003043    990EZ   \n",
       "\n",
       "                                                 URL  \\\n",
       "0  https://s3.amazonaws.com/irs-form-990/20134296...   \n",
       "1  https://s3.amazonaws.com/irs-form-990/20134296...   \n",
       "2  https://s3.amazonaws.com/irs-form-990/20134296...   \n",
       "3  https://s3.amazonaws.com/irs-form-990/20133310...   \n",
       "4  https://s3.amazonaws.com/irs-form-990/20134310...   \n",
       "\n",
       "                              OrganizationName SubmittedOn  \\\n",
       "0                     PTOK BUSH ELEMENTARY INC  2013-12-04   \n",
       "1  SOCIETY OF THE ARTS CO ALLENTOWN ART MUSEUM  2013-12-04   \n",
       "2                        GREAT FOUNDATIONS INC  2013-12-04   \n",
       "3                          FRIENDS OF KIDS INC  2013-12-04   \n",
       "4               LAKESHORE YOUTH ATHLETIC ASSOC  2013-12-04   \n",
       "\n",
       "             ObjectId          LastUpdated  \n",
       "0  201342969349200609  2016-03-21T17:23:53  \n",
       "1  201342969349200704  2016-03-21T17:23:53  \n",
       "2  201342969349200709  2016-03-21T17:23:53  \n",
       "3  201333109349201203  2016-03-21T17:23:53  \n",
       "4  201343109349200304  2016-03-21T17:23:53  "
      ]
     },
     "execution_count": 5,
     "metadata": {},
     "output_type": "execute_result"
    }
   ],
   "source": [
    "df = pd.DataFrame.from_dict(data)\n",
    "df.head(5)"
   ]
  },
  {
   "cell_type": "code",
   "execution_count": 6,
   "metadata": {},
   "outputs": [
    {
     "data": {
      "text/plain": [
       "(261449, 9)"
      ]
     },
     "execution_count": 6,
     "metadata": {},
     "output_type": "execute_result"
    }
   ],
   "source": [
    "df.shape"
   ]
  },
  {
   "cell_type": "code",
   "execution_count": 10,
   "metadata": {},
   "outputs": [
    {
     "data": {
      "text/plain": [
       "261449"
      ]
     },
     "execution_count": 10,
     "metadata": {},
     "output_type": "execute_result"
    }
   ],
   "source": [
    "len(data)"
   ]
  },
  {
   "cell_type": "code",
   "execution_count": 34,
   "metadata": {},
   "outputs": [
    {
     "data": {
      "text/html": [
       "<div>\n",
       "<style scoped>\n",
       "    .dataframe tbody tr th:only-of-type {\n",
       "        vertical-align: middle;\n",
       "    }\n",
       "\n",
       "    .dataframe tbody tr th {\n",
       "        vertical-align: top;\n",
       "    }\n",
       "\n",
       "    .dataframe thead th {\n",
       "        text-align: right;\n",
       "    }\n",
       "</style>\n",
       "<table border=\"1\" class=\"dataframe\">\n",
       "  <thead>\n",
       "    <tr style=\"text-align: right;\">\n",
       "      <th></th>\n",
       "      <th>EIN</th>\n",
       "      <th>TaxPeriod</th>\n",
       "      <th>DLN</th>\n",
       "      <th>FormType</th>\n",
       "      <th>URL</th>\n",
       "      <th>OrganizationName</th>\n",
       "      <th>SubmittedOn</th>\n",
       "      <th>ObjectId</th>\n",
       "      <th>LastUpdated</th>\n",
       "    </tr>\n",
       "  </thead>\n",
       "  <tbody>\n",
       "    <tr>\n",
       "      <td>261444</td>\n",
       "      <td>386624867</td>\n",
       "      <td>201306</td>\n",
       "      <td>93493270000103</td>\n",
       "      <td>990</td>\n",
       "      <td>https://s3.amazonaws.com/irs-form-990/20130270...</td>\n",
       "      <td>CONSTRUCTION EDUCATION TRUST</td>\n",
       "      <td>2013-12-03</td>\n",
       "      <td>201302709349300010</td>\n",
       "      <td>2016-03-21T17:23:53</td>\n",
       "    </tr>\n",
       "    <tr>\n",
       "      <td>261445</td>\n",
       "      <td>203746128</td>\n",
       "      <td>201306</td>\n",
       "      <td>93493297003363</td>\n",
       "      <td>990</td>\n",
       "      <td>https://s3.amazonaws.com/irs-form-990/20131297...</td>\n",
       "      <td>SCAGO EDUCATIONAL FACILITIES CORPORATION SPART...</td>\n",
       "      <td>2013-12-03</td>\n",
       "      <td>201312979349300336</td>\n",
       "      <td>2016-03-21T17:23:53</td>\n",
       "    </tr>\n",
       "    <tr>\n",
       "      <td>261446</td>\n",
       "      <td>520960095</td>\n",
       "      <td>201209</td>\n",
       "      <td>93493086004043</td>\n",
       "      <td>990</td>\n",
       "      <td>https://s3.amazonaws.com/irs-form-990/20134086...</td>\n",
       "      <td>ARC OF THE DISTRICT OF COLUMBIA</td>\n",
       "      <td>2013-04-08</td>\n",
       "      <td>201340869349300404</td>\n",
       "      <td>2016-03-21T17:23:53</td>\n",
       "    </tr>\n",
       "    <tr>\n",
       "      <td>261447</td>\n",
       "      <td>363330171</td>\n",
       "      <td>201209</td>\n",
       "      <td>93493086004243</td>\n",
       "      <td>990</td>\n",
       "      <td>https://s3.amazonaws.com/irs-form-990/20134086...</td>\n",
       "      <td>BANK ADMINISTRATION INSTITUTE</td>\n",
       "      <td>2013-04-08</td>\n",
       "      <td>201340869349300424</td>\n",
       "      <td>2016-03-21T17:23:53</td>\n",
       "    </tr>\n",
       "    <tr>\n",
       "      <td>261448</td>\n",
       "      <td>541660459</td>\n",
       "      <td>201206</td>\n",
       "      <td>93493115003213</td>\n",
       "      <td>990</td>\n",
       "      <td>https://s3.amazonaws.com/irs-form-990/20131115...</td>\n",
       "      <td>ALLIANCE DEFENSE FUND</td>\n",
       "      <td>2013-05-07</td>\n",
       "      <td>201311159349300321</td>\n",
       "      <td>2016-03-21T17:23:53</td>\n",
       "    </tr>\n",
       "  </tbody>\n",
       "</table>\n",
       "</div>"
      ],
      "text/plain": [
       "              EIN TaxPeriod             DLN FormType  \\\n",
       "261444  386624867    201306  93493270000103      990   \n",
       "261445  203746128    201306  93493297003363      990   \n",
       "261446  520960095    201209  93493086004043      990   \n",
       "261447  363330171    201209  93493086004243      990   \n",
       "261448  541660459    201206  93493115003213      990   \n",
       "\n",
       "                                                      URL  \\\n",
       "261444  https://s3.amazonaws.com/irs-form-990/20130270...   \n",
       "261445  https://s3.amazonaws.com/irs-form-990/20131297...   \n",
       "261446  https://s3.amazonaws.com/irs-form-990/20134086...   \n",
       "261447  https://s3.amazonaws.com/irs-form-990/20134086...   \n",
       "261448  https://s3.amazonaws.com/irs-form-990/20131115...   \n",
       "\n",
       "                                         OrganizationName SubmittedOn  \\\n",
       "261444                       CONSTRUCTION EDUCATION TRUST  2013-12-03   \n",
       "261445  SCAGO EDUCATIONAL FACILITIES CORPORATION SPART...  2013-12-03   \n",
       "261446                    ARC OF THE DISTRICT OF COLUMBIA  2013-04-08   \n",
       "261447                      BANK ADMINISTRATION INSTITUTE  2013-04-08   \n",
       "261448                              ALLIANCE DEFENSE FUND  2013-05-07   \n",
       "\n",
       "                  ObjectId          LastUpdated  \n",
       "261444  201302709349300010  2016-03-21T17:23:53  \n",
       "261445  201312979349300336  2016-03-21T17:23:53  \n",
       "261446  201340869349300404  2016-03-21T17:23:53  \n",
       "261447  201340869349300424  2016-03-21T17:23:53  \n",
       "261448  201311159349300321  2016-03-21T17:23:53  "
      ]
     },
     "execution_count": 34,
     "metadata": {},
     "output_type": "execute_result"
    }
   ],
   "source": [
    "df.tail(5)"
   ]
  },
  {
   "cell_type": "code",
   "execution_count": 9,
   "metadata": {},
   "outputs": [],
   "source": [
    "from multiprocessing.pool import ThreadPool"
   ]
  },
  {
   "cell_type": "code",
   "execution_count": 33,
   "metadata": {},
   "outputs": [],
   "source": [
    "def download_url(url):\n",
    "    file_name_start = url.rfind('/') + 1\n",
    "    file_name = url[file_name_start:]\n",
    "    output_dir = \"/home/meso/git_repo/exploring_990/data/\"\n",
    "    file_name = output_dir + file_name\n",
    "    \n",
    "    r = requests.get(url, stream=True)\n",
    "    if r.status_code == requests.codes.ok:\n",
    "        with open(file_name, 'wb') as f:\n",
    "            f.write(r.content)\n",
    "    return url\n",
    "\n",
    "urls = []\n",
    "for i in range(df.shape[0]): # testing, should be len(data) or df.shape[0]\n",
    "    urls.append(data[i]['URL'])\n",
    "    \n",
    "results = ThreadPool(10).imap_unordered(download_url, urls)"
   ]
  }
 ],
 "metadata": {
  "kernelspec": {
   "display_name": "Python 3",
   "language": "python",
   "name": "python3"
  },
  "language_info": {
   "codemirror_mode": {
    "name": "ipython",
    "version": 3
   },
   "file_extension": ".py",
   "mimetype": "text/x-python",
   "name": "python",
   "nbconvert_exporter": "python",
   "pygments_lexer": "ipython3",
   "version": "3.6.9"
  }
 },
 "nbformat": 4,
 "nbformat_minor": 2
}
