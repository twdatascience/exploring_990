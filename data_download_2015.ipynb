{
 "cells": [
  {
   "cell_type": "code",
   "execution_count": 1,
   "metadata": {},
   "outputs": [],
   "source": [
    "import numpy as np\n",
    "import pandas as pd\n",
    "import requests\n",
    "import re\n",
    "import json\n",
    "from os import walk\n",
    "from multiprocessing.pool import ThreadPool"
   ]
  },
  {
   "cell_type": "code",
   "execution_count": 2,
   "metadata": {},
   "outputs": [],
   "source": [
    "URL = \"https://s3.amazonaws.com/irs-form-990/index_2015.json\"\n",
    "\n",
    "response = requests.get(URL)\n",
    "with open(\"index_2015.json\", 'wb') as f:\n",
    "    f.write(response.content)"
   ]
  },
  {
   "cell_type": "code",
   "execution_count": 3,
   "metadata": {},
   "outputs": [],
   "source": [
    "with open(\"index_2015.json\") as f:\n",
    "    data = json.load(f)\n",
    "    data = data[list(data.keys())[0]]"
   ]
  },
  {
   "cell_type": "code",
   "execution_count": 4,
   "metadata": {},
   "outputs": [
    {
     "data": {
      "text/html": [
       "<div>\n",
       "<style scoped>\n",
       "    .dataframe tbody tr th:only-of-type {\n",
       "        vertical-align: middle;\n",
       "    }\n",
       "\n",
       "    .dataframe tbody tr th {\n",
       "        vertical-align: top;\n",
       "    }\n",
       "\n",
       "    .dataframe thead th {\n",
       "        text-align: right;\n",
       "    }\n",
       "</style>\n",
       "<table border=\"1\" class=\"dataframe\">\n",
       "  <thead>\n",
       "    <tr style=\"text-align: right;\">\n",
       "      <th></th>\n",
       "      <th>EIN</th>\n",
       "      <th>TaxPeriod</th>\n",
       "      <th>DLN</th>\n",
       "      <th>FormType</th>\n",
       "      <th>URL</th>\n",
       "      <th>OrganizationName</th>\n",
       "      <th>SubmittedOn</th>\n",
       "      <th>ObjectId</th>\n",
       "      <th>LastUpdated</th>\n",
       "    </tr>\n",
       "  </thead>\n",
       "  <tbody>\n",
       "    <tr>\n",
       "      <td>261029</td>\n",
       "      <td>261916362</td>\n",
       "      <td>201412</td>\n",
       "      <td>93493274003245</td>\n",
       "      <td>990</td>\n",
       "      <td>https://s3.amazonaws.com/irs-form-990/20154274...</td>\n",
       "      <td>UNITED STATES CUTANEOUS LYMPHOMA CONSORTIUM</td>\n",
       "      <td>2015-10-14</td>\n",
       "      <td>201542749349300324</td>\n",
       "      <td>2016-04-29T13:40:20</td>\n",
       "    </tr>\n",
       "    <tr>\n",
       "      <td>261030</td>\n",
       "      <td>391531523</td>\n",
       "      <td>201412</td>\n",
       "      <td>93493274003395</td>\n",
       "      <td>990</td>\n",
       "      <td>https://s3.amazonaws.com/irs-form-990/20154274...</td>\n",
       "      <td>FRIENDS OF BEAVER CREEK RESERVE</td>\n",
       "      <td>2015-10-14</td>\n",
       "      <td>201542749349300339</td>\n",
       "      <td>2016-04-29T13:40:20</td>\n",
       "    </tr>\n",
       "    <tr>\n",
       "      <td>261031</td>\n",
       "      <td>237429891</td>\n",
       "      <td>201412</td>\n",
       "      <td>93493274004095</td>\n",
       "      <td>990</td>\n",
       "      <td>https://s3.amazonaws.com/irs-form-990/20154274...</td>\n",
       "      <td>SPOJNIA CREDIT UNION</td>\n",
       "      <td>2015-10-08</td>\n",
       "      <td>201542749349300409</td>\n",
       "      <td>2016-04-29T13:40:20</td>\n",
       "    </tr>\n",
       "    <tr>\n",
       "      <td>261032</td>\n",
       "      <td>330457856</td>\n",
       "      <td>201506</td>\n",
       "      <td>93493274004195</td>\n",
       "      <td>990</td>\n",
       "      <td>https://s3.amazonaws.com/irs-form-990/20154274...</td>\n",
       "      <td>CHILD ABUSE INTERVENTION FUND</td>\n",
       "      <td>2015-10-14</td>\n",
       "      <td>201542749349300419</td>\n",
       "      <td>2016-04-29T13:40:20</td>\n",
       "    </tr>\n",
       "    <tr>\n",
       "      <td>261033</td>\n",
       "      <td>741235398</td>\n",
       "      <td>201412</td>\n",
       "      <td>93493274004345</td>\n",
       "      <td>990</td>\n",
       "      <td>https://s3.amazonaws.com/irs-form-990/20154274...</td>\n",
       "      <td>GOOD SAMARITAN FOUNDATION OF TEXAS INC</td>\n",
       "      <td>2015-10-14</td>\n",
       "      <td>201542749349300434</td>\n",
       "      <td>2016-04-29T13:40:20</td>\n",
       "    </tr>\n",
       "  </tbody>\n",
       "</table>\n",
       "</div>"
      ],
      "text/plain": [
       "              EIN TaxPeriod             DLN FormType  \\\n",
       "261029  261916362    201412  93493274003245      990   \n",
       "261030  391531523    201412  93493274003395      990   \n",
       "261031  237429891    201412  93493274004095      990   \n",
       "261032  330457856    201506  93493274004195      990   \n",
       "261033  741235398    201412  93493274004345      990   \n",
       "\n",
       "                                                      URL  \\\n",
       "261029  https://s3.amazonaws.com/irs-form-990/20154274...   \n",
       "261030  https://s3.amazonaws.com/irs-form-990/20154274...   \n",
       "261031  https://s3.amazonaws.com/irs-form-990/20154274...   \n",
       "261032  https://s3.amazonaws.com/irs-form-990/20154274...   \n",
       "261033  https://s3.amazonaws.com/irs-form-990/20154274...   \n",
       "\n",
       "                                   OrganizationName SubmittedOn  \\\n",
       "261029  UNITED STATES CUTANEOUS LYMPHOMA CONSORTIUM  2015-10-14   \n",
       "261030              FRIENDS OF BEAVER CREEK RESERVE  2015-10-14   \n",
       "261031                         SPOJNIA CREDIT UNION  2015-10-08   \n",
       "261032                CHILD ABUSE INTERVENTION FUND  2015-10-14   \n",
       "261033       GOOD SAMARITAN FOUNDATION OF TEXAS INC  2015-10-14   \n",
       "\n",
       "                  ObjectId          LastUpdated  \n",
       "261029  201542749349300324  2016-04-29T13:40:20  \n",
       "261030  201542749349300339  2016-04-29T13:40:20  \n",
       "261031  201542749349300409  2016-04-29T13:40:20  \n",
       "261032  201542749349300419  2016-04-29T13:40:20  \n",
       "261033  201542749349300434  2016-04-29T13:40:20  "
      ]
     },
     "execution_count": 4,
     "metadata": {},
     "output_type": "execute_result"
    }
   ],
   "source": [
    "df = pd.DataFrame.from_dict(data)\n",
    "df.tail(5)"
   ]
  },
  {
   "cell_type": "code",
   "execution_count": 5,
   "metadata": {},
   "outputs": [
    {
     "data": {
      "text/plain": [
       "(261034, 9)"
      ]
     },
     "execution_count": 5,
     "metadata": {},
     "output_type": "execute_result"
    }
   ],
   "source": [
    "df.shape"
   ]
  },
  {
   "cell_type": "code",
   "execution_count": 6,
   "metadata": {},
   "outputs": [],
   "source": [
    "def download_url(url):\n",
    "    file_name_start = url.rfind('/') + 1\n",
    "    file_name = url[file_name_start:]\n",
    "    output_dir = \"/home/meso/git_repo/exploring_990/data_2015/\"\n",
    "    file_name = output_dir + file_name\n",
    "    \n",
    "    r = requests.get(url, stream=True)\n",
    "    if r.status_code == requests.codes.ok:\n",
    "        with open(file_name, 'wb') as f:\n",
    "            f.write(r.content)\n",
    "    return url\n",
    "\n",
    "urls = []\n",
    "for i in range(df.shape[0]): \n",
    "    urls.append(data[i]['URL'])\n",
    "    \n",
    "results = ThreadPool(100).imap_unordered(download_url, urls)"
   ]
  },
  {
   "cell_type": "code",
   "execution_count": 7,
   "metadata": {},
   "outputs": [],
   "source": [
    "f = []\n",
    "for (dirpath, dirnames, filenames) in walk('/home/meso/git_repo/exploring_990/data_2015/'):\n",
    "    f.extend(filenames)\n",
    "    break"
   ]
  },
  {
   "cell_type": "code",
   "execution_count": 8,
   "metadata": {},
   "outputs": [
    {
     "data": {
      "text/plain": [
       "261034"
      ]
     },
     "execution_count": 8,
     "metadata": {},
     "output_type": "execute_result"
    }
   ],
   "source": [
    "u = list(df['URL'])\n",
    "len(u)"
   ]
  },
  {
   "cell_type": "code",
   "execution_count": 9,
   "metadata": {},
   "outputs": [],
   "source": [
    "file_names_list = []\n",
    "\n",
    "for i in range(len(u)):\n",
    "    file_loc = u[i].rfind(\"/\") + 1\n",
    "    file_name = u[i][file_loc:]\n",
    "    file_names_list.append(file_name)"
   ]
  },
  {
   "cell_type": "code",
   "execution_count": 10,
   "metadata": {},
   "outputs": [
    {
     "name": "stdout",
     "output_type": "stream",
     "text": [
      "261034 : 260885\n"
     ]
    }
   ],
   "source": [
    "print(len(file_names_list), str(\":\"), len(f))"
   ]
  },
  {
   "cell_type": "code",
   "execution_count": 11,
   "metadata": {},
   "outputs": [
    {
     "data": {
      "text/plain": [
       "149"
      ]
     },
     "execution_count": 11,
     "metadata": {},
     "output_type": "execute_result"
    }
   ],
   "source": [
    "diff = list(set(file_names_list) - set(f))\n",
    "len(diff)"
   ]
  },
  {
   "cell_type": "code",
   "execution_count": 12,
   "metadata": {},
   "outputs": [],
   "source": [
    "file_loc = u[i].rfind(\"/\") + 1\n",
    "url_pre = u[0][:file_loc]"
   ]
  },
  {
   "cell_type": "code",
   "execution_count": 13,
   "metadata": {},
   "outputs": [],
   "source": [
    "urls = []\n",
    "for i in range(len(diff)):\n",
    "    url = url_pre + diff[i]\n",
    "    urls.append(url)"
   ]
  },
  {
   "cell_type": "code",
   "execution_count": 14,
   "metadata": {},
   "outputs": [],
   "source": [
    "for url in urls:\n",
    "    download_url(url)"
   ]
  },
  {
   "cell_type": "code",
   "execution_count": 15,
   "metadata": {},
   "outputs": [],
   "source": [
    "f = []\n",
    "for (dirpath, dirnames, filenames) in walk('/home/meso/git_repo/exploring_990/data_2015/'):\n",
    "    f.extend(filenames)\n",
    "    break"
   ]
  },
  {
   "cell_type": "code",
   "execution_count": 16,
   "metadata": {},
   "outputs": [
    {
     "data": {
      "text/plain": [
       "261034"
      ]
     },
     "execution_count": 16,
     "metadata": {},
     "output_type": "execute_result"
    }
   ],
   "source": [
    "len(f)"
   ]
  },
  {
   "cell_type": "code",
   "execution_count": 17,
   "metadata": {},
   "outputs": [
    {
     "data": {
      "text/plain": [
       "0"
      ]
     },
     "execution_count": 17,
     "metadata": {},
     "output_type": "execute_result"
    }
   ],
   "source": [
    "diff = list(set(file_names_list) - set(f))\n",
    "len(diff)"
   ]
  },
  {
   "cell_type": "code",
   "execution_count": 18,
   "metadata": {},
   "outputs": [],
   "source": [
    "def list_duplicates(seq):\n",
    "    seen = set()\n",
    "    seen_add = seen.add\n",
    "    return [idx for idx, item in enumerate(seq) if item in seen or seen_add(item)]"
   ]
  },
  {
   "cell_type": "code",
   "execution_count": 19,
   "metadata": {},
   "outputs": [
    {
     "name": "stdout",
     "output_type": "stream",
     "text": [
      "[]\n"
     ]
    }
   ],
   "source": [
    "print(list_duplicates(file_names_list))"
   ]
  },
  {
   "cell_type": "code",
   "execution_count": 21,
   "metadata": {},
   "outputs": [],
   "source": [
    "dup_df = df.iloc[list_duplicates(file_names_list)]"
   ]
  },
  {
   "cell_type": "code",
   "execution_count": 22,
   "metadata": {},
   "outputs": [],
   "source": [
    "dup_ein = pd.DataFrame(dup_df['EIN'])"
   ]
  },
  {
   "cell_type": "code",
   "execution_count": 23,
   "metadata": {},
   "outputs": [
    {
     "data": {
      "text/html": [
       "<div>\n",
       "<style scoped>\n",
       "    .dataframe tbody tr th:only-of-type {\n",
       "        vertical-align: middle;\n",
       "    }\n",
       "\n",
       "    .dataframe tbody tr th {\n",
       "        vertical-align: top;\n",
       "    }\n",
       "\n",
       "    .dataframe thead th {\n",
       "        text-align: right;\n",
       "    }\n",
       "</style>\n",
       "<table border=\"1\" class=\"dataframe\">\n",
       "  <thead>\n",
       "    <tr style=\"text-align: right;\">\n",
       "      <th></th>\n",
       "      <th>EIN</th>\n",
       "    </tr>\n",
       "  </thead>\n",
       "  <tbody>\n",
       "  </tbody>\n",
       "</table>\n",
       "</div>"
      ],
      "text/plain": [
       "Empty DataFrame\n",
       "Columns: [EIN]\n",
       "Index: []"
      ]
     },
     "execution_count": 23,
     "metadata": {},
     "output_type": "execute_result"
    }
   ],
   "source": [
    "dup_ein"
   ]
  },
  {
   "cell_type": "code",
   "execution_count": 24,
   "metadata": {},
   "outputs": [],
   "source": [
    "duplicates = pd.DataFrame([])\n",
    "\n",
    "for dup in range(dup_ein.shape[0]):\n",
    "    ein = dup_ein.iloc[dup]['EIN']\n",
    "    duplicates = duplicates.append(df[df['EIN'] == ein])"
   ]
  },
  {
   "cell_type": "code",
   "execution_count": 25,
   "metadata": {},
   "outputs": [
    {
     "data": {
      "text/html": [
       "<div>\n",
       "<style scoped>\n",
       "    .dataframe tbody tr th:only-of-type {\n",
       "        vertical-align: middle;\n",
       "    }\n",
       "\n",
       "    .dataframe tbody tr th {\n",
       "        vertical-align: top;\n",
       "    }\n",
       "\n",
       "    .dataframe thead th {\n",
       "        text-align: right;\n",
       "    }\n",
       "</style>\n",
       "<table border=\"1\" class=\"dataframe\">\n",
       "  <thead>\n",
       "    <tr style=\"text-align: right;\">\n",
       "      <th></th>\n",
       "    </tr>\n",
       "  </thead>\n",
       "  <tbody>\n",
       "  </tbody>\n",
       "</table>\n",
       "</div>"
      ],
      "text/plain": [
       "Empty DataFrame\n",
       "Columns: []\n",
       "Index: []"
      ]
     },
     "execution_count": 25,
     "metadata": {},
     "output_type": "execute_result"
    }
   ],
   "source": [
    "duplicates"
   ]
  },
  {
   "cell_type": "code",
   "execution_count": null,
   "metadata": {},
   "outputs": [],
   "source": []
  },
  {
   "cell_type": "code",
   "execution_count": null,
   "metadata": {},
   "outputs": [],
   "source": []
  },
  {
   "cell_type": "code",
   "execution_count": null,
   "metadata": {},
   "outputs": [],
   "source": []
  }
 ],
 "metadata": {
  "kernelspec": {
   "display_name": "Python 3",
   "language": "python",
   "name": "python3"
  },
  "language_info": {
   "codemirror_mode": {
    "name": "ipython",
    "version": 3
   },
   "file_extension": ".py",
   "mimetype": "text/x-python",
   "name": "python",
   "nbconvert_exporter": "python",
   "pygments_lexer": "ipython3",
   "version": "3.6.9"
  }
 },
 "nbformat": 4,
 "nbformat_minor": 2
}
